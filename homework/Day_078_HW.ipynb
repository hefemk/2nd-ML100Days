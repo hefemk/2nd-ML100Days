{
  "nbformat": 4,
  "nbformat_minor": 0,
  "metadata": {
    "kernelspec": {
      "display_name": "Python 3",
      "language": "python",
      "name": "python3"
    },
    "language_info": {
      "codemirror_mode": {
        "name": "ipython",
        "version": 3
      },
      "file_extension": ".py",
      "mimetype": "text/x-python",
      "name": "python",
      "nbconvert_exporter": "python",
      "pygments_lexer": "ipython3",
      "version": "3.6.5"
    },
    "colab": {
      "name": "Day_078_HW.ipynb",
      "version": "0.3.2",
      "provenance": [],
      "collapsed_sections": []
    }
  },
  "cells": [
    {
      "cell_type": "markdown",
      "metadata": {
        "id": "kh3XQ_Rze_08",
        "colab_type": "text"
      },
      "source": [
        "## Work\n",
        "1. 請嘗試將 preproc_x 替換成以每筆資料的 min/max 進行標準化至 -1 ~ 1 間，再進行訓練\n",
        "2. 請嘗試將 mlp 疊更深 (e.g 5~10 層)，進行訓練後觀察 learning curve 的走勢\n",
        "3. (optional) 請改用 GPU 進行訓練 (如果你有 GPU 的話)，比較使用 CPU 與 GPU 的訓練速度"
      ]
    },
    {
      "cell_type": "code",
      "metadata": {
        "id": "eTNhmlU2e_1A",
        "colab_type": "code",
        "colab": {
          "base_uri": "https://localhost:8080/",
          "height": 54
        },
        "outputId": "7f037034-af1c-4126-fc14-bb2b6b6e499f"
      },
      "source": [
        "## \n",
        "\"\"\"\n",
        "Your code here (optional)\n",
        "確認硬體資源\n",
        "\"\"\"\n",
        "!nvidia-smi"
      ],
      "execution_count": 1,
      "outputs": [
        {
          "output_type": "stream",
          "text": [
            "NVIDIA-SMI has failed because it couldn't communicate with the NVIDIA driver. Make sure that the latest NVIDIA driver is installed and running.\n",
            "\n"
          ],
          "name": "stdout"
        }
      ]
    },
    {
      "cell_type": "code",
      "metadata": {
        "id": "TNPyYV94e_1N",
        "colab_type": "code",
        "colab": {
          "base_uri": "https://localhost:8080/",
          "height": 35
        },
        "outputId": "3b219f31-ebd0-493e-f81c-4a9a1d3758c6"
      },
      "source": [
        "import os\n",
        "import keras\n",
        "\n",
        "# 請嘗試設定 GPU：os.environ\n",
        "os.environ[\"CUDA_VISIBLE_DEVICES\"] = \"\""
      ],
      "execution_count": 2,
      "outputs": [
        {
          "output_type": "stream",
          "text": [
            "Using TensorFlow backend.\n"
          ],
          "name": "stderr"
        }
      ]
    },
    {
      "cell_type": "code",
      "metadata": {
        "id": "gDVE4bZbe_1X",
        "colab_type": "code",
        "colab": {}
      },
      "source": [
        "train, test = keras.datasets.cifar10.load_data()"
      ],
      "execution_count": 0,
      "outputs": []
    },
    {
      "cell_type": "code",
      "metadata": {
        "id": "4TfqCerde_1f",
        "colab_type": "code",
        "colab": {}
      },
      "source": [
        "## 資料前處理\n",
        "\"\"\"\n",
        "Your code here\n",
        "\"\"\"\n",
        "def preproc_x(x, flatten=True):\n",
        "    x = x / 255.\n",
        "    if flatten:\n",
        "        x = x.reshape((len(x), -1))\n",
        "    return x\n",
        "\n",
        "def preproc_y(y, num_classes=10):\n",
        "    if y.shape[-1] == 1:\n",
        "        y = keras.utils.to_categorical(y, num_classes)\n",
        "    return y"
      ],
      "execution_count": 0,
      "outputs": []
    },
    {
      "cell_type": "code",
      "metadata": {
        "id": "V0x_Jd0Ae_1l",
        "colab_type": "code",
        "colab": {}
      },
      "source": [
        "x_train, y_train = train\n",
        "x_test, y_test = test\n",
        "\n",
        "# Preproc the inputs\n",
        "x_train = preproc_x(x_train)\n",
        "x_test = preproc_x(x_test)\n",
        "\n",
        "# Preprc the outputs\n",
        "y_train = preproc_y(y_train)\n",
        "y_test = preproc_y(y_test)"
      ],
      "execution_count": 0,
      "outputs": []
    },
    {
      "cell_type": "code",
      "metadata": {
        "id": "wVhretPGe_1s",
        "colab_type": "code",
        "colab": {
          "base_uri": "https://localhost:8080/",
          "height": 403
        },
        "outputId": "f1174c12-1631-4289-c73c-4f16286b8f25"
      },
      "source": [
        "\"\"\"Code Here\n",
        "建立你的神經網路\n",
        "\"\"\"\n",
        "def build_mlp(input_shape, output_units=10, num_neurons=[512, 256, 128, 64, 32]):\n",
        "    input_layer = keras.layers.Input(input_shape)\n",
        "    \n",
        "    for i, n_units in enumerate(num_neurons):\n",
        "        if i == 0:\n",
        "            x = keras.layers.Dense(units=n_units, activation=\"relu\", name=\"hidden_layer\"+str(i+1))(input_layer)\n",
        "        else:\n",
        "            x = keras.layers.Dense(units=n_units, activation=\"relu\", name=\"hidden_layer\"+str(i+1))(x)\n",
        "    \n",
        "    out = keras.layers.Dense(units=output_units, activation=\"softmax\", name=\"output\")(x)\n",
        "    out = keras.layers.Dense(units=output_units, activation=\"softmax\", name=\"output\")(x)\n",
        "    out = keras.layers.Dense(units=output_units, activation=\"softmax\", name=\"output\")(x)\n",
        "    out = keras.layers.Dense(units=output_units, activation=\"softmax\", name=\"output\")(x)\n",
        "    out = keras.layers.Dense(units=output_units, activation=\"softmax\", name=\"output\")(x)\n",
        "\n",
        "    model = keras.models.Model(inputs=[input_layer], outputs=[out])\n",
        "    return model\n",
        "\n",
        "model = build_mlp(input_shape=x_train.shape[1:])\n",
        "model.summary()"
      ],
      "execution_count": 22,
      "outputs": [
        {
          "output_type": "stream",
          "text": [
            "_________________________________________________________________\n",
            "Layer (type)                 Output Shape              Param #   \n",
            "=================================================================\n",
            "input_3 (InputLayer)         (None, 3072)              0         \n",
            "_________________________________________________________________\n",
            "hidden_layer1 (Dense)        (None, 512)               1573376   \n",
            "_________________________________________________________________\n",
            "hidden_layer2 (Dense)        (None, 256)               131328    \n",
            "_________________________________________________________________\n",
            "hidden_layer3 (Dense)        (None, 128)               32896     \n",
            "_________________________________________________________________\n",
            "hidden_layer4 (Dense)        (None, 64)                8256      \n",
            "_________________________________________________________________\n",
            "hidden_layer5 (Dense)        (None, 32)                2080      \n",
            "_________________________________________________________________\n",
            "output (Dense)               (None, 10)                330       \n",
            "=================================================================\n",
            "Total params: 1,748,266\n",
            "Trainable params: 1,748,266\n",
            "Non-trainable params: 0\n",
            "_________________________________________________________________\n"
          ],
          "name": "stdout"
        }
      ]
    },
    {
      "cell_type": "code",
      "metadata": {
        "id": "qimKSr9he_1y",
        "colab_type": "code",
        "colab": {}
      },
      "source": [
        "## 超參數設定\n",
        "LEARNING_RATE = 0.001\n",
        "EPOCHS = 100\n",
        "BATCH_SIZE = 256"
      ],
      "execution_count": 0,
      "outputs": []
    },
    {
      "cell_type": "code",
      "metadata": {
        "id": "T10QWxrce_15",
        "colab_type": "code",
        "colab": {}
      },
      "source": [
        "optimizer = keras.optimizers.Adam(lr=LEARNING_RATE)\n",
        "model.compile(loss=\"categorical_crossentropy\", metrics=[\"accuracy\"], optimizer=optimizer)"
      ],
      "execution_count": 0,
      "outputs": []
    },
    {
      "cell_type": "code",
      "metadata": {
        "id": "9cSOKjqMe_1_",
        "colab_type": "code",
        "colab": {
          "base_uri": "https://localhost:8080/",
          "height": 1000
        },
        "outputId": "c7309271-0d56-42cf-f0b1-169fa8a0adb6"
      },
      "source": [
        "model.fit(x_train, y_train, \n",
        "          epochs=EPOCHS, \n",
        "          batch_size=BATCH_SIZE, \n",
        "          validation_data=(x_test, y_test), \n",
        "          shuffle=True)"
      ],
      "execution_count": 25,
      "outputs": [
        {
          "output_type": "stream",
          "text": [
            "Train on 50000 samples, validate on 10000 samples\n",
            "Epoch 1/100\n",
            "50000/50000 [==============================] - 15s 295us/step - loss: 1.9837 - acc: 0.2705 - val_loss: 1.8037 - val_acc: 0.3505\n",
            "Epoch 2/100\n",
            "50000/50000 [==============================] - 14s 282us/step - loss: 1.7597 - acc: 0.3655 - val_loss: 1.7012 - val_acc: 0.3845\n",
            "Epoch 3/100\n",
            "50000/50000 [==============================] - 14s 283us/step - loss: 1.6629 - acc: 0.4041 - val_loss: 1.6193 - val_acc: 0.4104\n",
            "Epoch 4/100\n",
            "50000/50000 [==============================] - 14s 288us/step - loss: 1.5913 - acc: 0.4299 - val_loss: 1.5668 - val_acc: 0.4353\n",
            "Epoch 5/100\n",
            "50000/50000 [==============================] - 14s 283us/step - loss: 1.5330 - acc: 0.4534 - val_loss: 1.5314 - val_acc: 0.4544\n",
            "Epoch 6/100\n",
            "50000/50000 [==============================] - 14s 285us/step - loss: 1.5056 - acc: 0.4640 - val_loss: 1.5387 - val_acc: 0.4573\n",
            "Epoch 7/100\n",
            "50000/50000 [==============================] - 14s 280us/step - loss: 1.4672 - acc: 0.4767 - val_loss: 1.4731 - val_acc: 0.4781\n",
            "Epoch 8/100\n",
            "50000/50000 [==============================] - 14s 280us/step - loss: 1.4328 - acc: 0.4879 - val_loss: 1.4641 - val_acc: 0.4754\n",
            "Epoch 9/100\n",
            "50000/50000 [==============================] - 14s 277us/step - loss: 1.4010 - acc: 0.4983 - val_loss: 1.4368 - val_acc: 0.4893\n",
            "Epoch 10/100\n",
            "50000/50000 [==============================] - 14s 277us/step - loss: 1.3804 - acc: 0.5058 - val_loss: 1.4828 - val_acc: 0.4742\n",
            "Epoch 11/100\n",
            "50000/50000 [==============================] - 14s 278us/step - loss: 1.3563 - acc: 0.5136 - val_loss: 1.4537 - val_acc: 0.4842\n",
            "Epoch 12/100\n",
            "50000/50000 [==============================] - 14s 279us/step - loss: 1.3301 - acc: 0.5253 - val_loss: 1.4175 - val_acc: 0.4950\n",
            "Epoch 13/100\n",
            "50000/50000 [==============================] - 14s 277us/step - loss: 1.3053 - acc: 0.5347 - val_loss: 1.4552 - val_acc: 0.4942\n",
            "Epoch 14/100\n",
            "50000/50000 [==============================] - 14s 278us/step - loss: 1.2832 - acc: 0.5419 - val_loss: 1.3986 - val_acc: 0.5064\n",
            "Epoch 15/100\n",
            "50000/50000 [==============================] - 14s 278us/step - loss: 1.2587 - acc: 0.5520 - val_loss: 1.4572 - val_acc: 0.4911\n",
            "Epoch 16/100\n",
            "50000/50000 [==============================] - 14s 278us/step - loss: 1.2387 - acc: 0.5566 - val_loss: 1.4090 - val_acc: 0.5051\n",
            "Epoch 17/100\n",
            "50000/50000 [==============================] - 14s 278us/step - loss: 1.2159 - acc: 0.5665 - val_loss: 1.3836 - val_acc: 0.5149\n",
            "Epoch 18/100\n",
            "50000/50000 [==============================] - 14s 278us/step - loss: 1.1896 - acc: 0.5724 - val_loss: 1.3813 - val_acc: 0.5122\n",
            "Epoch 19/100\n",
            "50000/50000 [==============================] - 14s 278us/step - loss: 1.1810 - acc: 0.5775 - val_loss: 1.4012 - val_acc: 0.5111\n",
            "Epoch 20/100\n",
            "50000/50000 [==============================] - 14s 279us/step - loss: 1.1547 - acc: 0.5870 - val_loss: 1.4169 - val_acc: 0.5020\n",
            "Epoch 21/100\n",
            "50000/50000 [==============================] - 14s 284us/step - loss: 1.1323 - acc: 0.5942 - val_loss: 1.3682 - val_acc: 0.5208\n",
            "Epoch 22/100\n",
            "50000/50000 [==============================] - 14s 283us/step - loss: 1.1158 - acc: 0.6011 - val_loss: 1.4627 - val_acc: 0.5031\n",
            "Epoch 23/100\n",
            "50000/50000 [==============================] - 14s 283us/step - loss: 1.1025 - acc: 0.6049 - val_loss: 1.3958 - val_acc: 0.5177\n",
            "Epoch 24/100\n",
            "50000/50000 [==============================] - 14s 280us/step - loss: 1.0763 - acc: 0.6130 - val_loss: 1.4086 - val_acc: 0.5193\n",
            "Epoch 25/100\n",
            "50000/50000 [==============================] - 14s 281us/step - loss: 1.0492 - acc: 0.6269 - val_loss: 1.4101 - val_acc: 0.5229\n",
            "Epoch 26/100\n",
            "50000/50000 [==============================] - 14s 284us/step - loss: 1.0435 - acc: 0.6253 - val_loss: 1.4375 - val_acc: 0.5132\n",
            "Epoch 27/100\n",
            "50000/50000 [==============================] - 14s 282us/step - loss: 1.0240 - acc: 0.6325 - val_loss: 1.4316 - val_acc: 0.5174\n",
            "Epoch 28/100\n",
            "50000/50000 [==============================] - 14s 279us/step - loss: 1.0039 - acc: 0.6400 - val_loss: 1.4014 - val_acc: 0.5290\n",
            "Epoch 29/100\n",
            "50000/50000 [==============================] - 14s 279us/step - loss: 0.9753 - acc: 0.6501 - val_loss: 1.4477 - val_acc: 0.5148\n",
            "Epoch 30/100\n",
            "50000/50000 [==============================] - 14s 280us/step - loss: 0.9608 - acc: 0.6545 - val_loss: 1.4658 - val_acc: 0.5247\n",
            "Epoch 31/100\n",
            "50000/50000 [==============================] - 14s 277us/step - loss: 0.9487 - acc: 0.6600 - val_loss: 1.4432 - val_acc: 0.5221\n",
            "Epoch 32/100\n",
            "50000/50000 [==============================] - 14s 279us/step - loss: 0.9229 - acc: 0.6695 - val_loss: 1.4754 - val_acc: 0.5214\n",
            "Epoch 33/100\n",
            "50000/50000 [==============================] - 14s 280us/step - loss: 0.9097 - acc: 0.6717 - val_loss: 1.4749 - val_acc: 0.5214\n",
            "Epoch 34/100\n",
            "50000/50000 [==============================] - 14s 280us/step - loss: 0.8901 - acc: 0.6831 - val_loss: 1.5077 - val_acc: 0.5248\n",
            "Epoch 35/100\n",
            "50000/50000 [==============================] - 14s 282us/step - loss: 0.8756 - acc: 0.6862 - val_loss: 1.4882 - val_acc: 0.5276\n",
            "Epoch 36/100\n",
            "50000/50000 [==============================] - 14s 283us/step - loss: 0.8507 - acc: 0.6947 - val_loss: 1.5096 - val_acc: 0.5289\n",
            "Epoch 37/100\n",
            "50000/50000 [==============================] - 14s 280us/step - loss: 0.8322 - acc: 0.7029 - val_loss: 1.5303 - val_acc: 0.5257\n",
            "Epoch 38/100\n",
            "50000/50000 [==============================] - 14s 282us/step - loss: 0.8243 - acc: 0.7049 - val_loss: 1.5495 - val_acc: 0.5164\n",
            "Epoch 39/100\n",
            "50000/50000 [==============================] - 14s 280us/step - loss: 0.8104 - acc: 0.7094 - val_loss: 1.5490 - val_acc: 0.5212\n",
            "Epoch 40/100\n",
            "50000/50000 [==============================] - 14s 281us/step - loss: 0.7943 - acc: 0.7153 - val_loss: 1.5974 - val_acc: 0.5210\n",
            "Epoch 41/100\n",
            "50000/50000 [==============================] - 14s 281us/step - loss: 0.7801 - acc: 0.7204 - val_loss: 1.5915 - val_acc: 0.5298\n",
            "Epoch 42/100\n",
            "50000/50000 [==============================] - 14s 281us/step - loss: 0.7609 - acc: 0.7260 - val_loss: 1.6521 - val_acc: 0.5092\n",
            "Epoch 43/100\n",
            "50000/50000 [==============================] - 14s 283us/step - loss: 0.7438 - acc: 0.7327 - val_loss: 1.6448 - val_acc: 0.5209\n",
            "Epoch 44/100\n",
            "50000/50000 [==============================] - 14s 284us/step - loss: 0.7291 - acc: 0.7378 - val_loss: 1.7301 - val_acc: 0.5116\n",
            "Epoch 45/100\n",
            "50000/50000 [==============================] - 14s 282us/step - loss: 0.7071 - acc: 0.7463 - val_loss: 1.6990 - val_acc: 0.5192\n",
            "Epoch 46/100\n",
            "50000/50000 [==============================] - 14s 279us/step - loss: 0.7007 - acc: 0.7493 - val_loss: 1.6972 - val_acc: 0.5101\n",
            "Epoch 47/100\n",
            "50000/50000 [==============================] - 14s 281us/step - loss: 0.6958 - acc: 0.7498 - val_loss: 1.7154 - val_acc: 0.5266\n",
            "Epoch 48/100\n",
            "50000/50000 [==============================] - 14s 281us/step - loss: 0.6855 - acc: 0.7538 - val_loss: 1.7841 - val_acc: 0.5104\n",
            "Epoch 49/100\n",
            "50000/50000 [==============================] - 14s 282us/step - loss: 0.6638 - acc: 0.7613 - val_loss: 1.7624 - val_acc: 0.5219\n",
            "Epoch 50/100\n",
            "50000/50000 [==============================] - 14s 280us/step - loss: 0.6488 - acc: 0.7684 - val_loss: 1.8390 - val_acc: 0.5162\n",
            "Epoch 51/100\n",
            "50000/50000 [==============================] - 14s 283us/step - loss: 0.6395 - acc: 0.7712 - val_loss: 1.8574 - val_acc: 0.5154\n",
            "Epoch 52/100\n",
            "50000/50000 [==============================] - 14s 281us/step - loss: 0.6334 - acc: 0.7720 - val_loss: 1.8673 - val_acc: 0.5037\n",
            "Epoch 53/100\n",
            "50000/50000 [==============================] - 14s 281us/step - loss: 0.6215 - acc: 0.7757 - val_loss: 1.8514 - val_acc: 0.5176\n",
            "Epoch 54/100\n",
            "50000/50000 [==============================] - 14s 282us/step - loss: 0.6117 - acc: 0.7807 - val_loss: 1.9058 - val_acc: 0.5185\n",
            "Epoch 55/100\n",
            "50000/50000 [==============================] - 14s 280us/step - loss: 0.6026 - acc: 0.7833 - val_loss: 1.9596 - val_acc: 0.5116\n",
            "Epoch 56/100\n",
            "50000/50000 [==============================] - 14s 281us/step - loss: 0.5885 - acc: 0.7880 - val_loss: 1.9347 - val_acc: 0.5118\n",
            "Epoch 57/100\n",
            "50000/50000 [==============================] - 14s 282us/step - loss: 0.5642 - acc: 0.7980 - val_loss: 2.0494 - val_acc: 0.5165\n",
            "Epoch 58/100\n",
            "50000/50000 [==============================] - 14s 281us/step - loss: 0.5625 - acc: 0.7978 - val_loss: 1.9840 - val_acc: 0.5162\n",
            "Epoch 59/100\n",
            "50000/50000 [==============================] - 14s 281us/step - loss: 0.5515 - acc: 0.8026 - val_loss: 2.0391 - val_acc: 0.5082\n",
            "Epoch 60/100\n",
            "50000/50000 [==============================] - 14s 282us/step - loss: 0.5356 - acc: 0.8083 - val_loss: 2.1208 - val_acc: 0.5045\n",
            "Epoch 61/100\n",
            "50000/50000 [==============================] - 14s 281us/step - loss: 0.5351 - acc: 0.8064 - val_loss: 2.0494 - val_acc: 0.5118\n",
            "Epoch 62/100\n",
            "50000/50000 [==============================] - 14s 282us/step - loss: 0.5299 - acc: 0.8094 - val_loss: 2.1327 - val_acc: 0.5152\n",
            "Epoch 63/100\n",
            "50000/50000 [==============================] - 14s 282us/step - loss: 0.5078 - acc: 0.8173 - val_loss: 2.1642 - val_acc: 0.5075\n",
            "Epoch 64/100\n",
            "50000/50000 [==============================] - 14s 287us/step - loss: 0.5186 - acc: 0.8145 - val_loss: 2.3098 - val_acc: 0.5030\n",
            "Epoch 65/100\n",
            "50000/50000 [==============================] - 14s 284us/step - loss: 0.5149 - acc: 0.8152 - val_loss: 2.2118 - val_acc: 0.5070\n",
            "Epoch 66/100\n",
            "50000/50000 [==============================] - 14s 284us/step - loss: 0.4798 - acc: 0.8289 - val_loss: 2.2079 - val_acc: 0.5172\n",
            "Epoch 67/100\n",
            "50000/50000 [==============================] - 14s 285us/step - loss: 0.4789 - acc: 0.8277 - val_loss: 2.2709 - val_acc: 0.5056\n",
            "Epoch 68/100\n",
            "50000/50000 [==============================] - 14s 283us/step - loss: 0.4851 - acc: 0.8247 - val_loss: 2.2364 - val_acc: 0.5080\n",
            "Epoch 69/100\n",
            "50000/50000 [==============================] - 14s 280us/step - loss: 0.4557 - acc: 0.8374 - val_loss: 2.3322 - val_acc: 0.5042\n",
            "Epoch 70/100\n",
            "50000/50000 [==============================] - 14s 281us/step - loss: 0.4628 - acc: 0.8320 - val_loss: 2.3715 - val_acc: 0.5071\n",
            "Epoch 71/100\n",
            "50000/50000 [==============================] - 14s 283us/step - loss: 0.4540 - acc: 0.8371 - val_loss: 2.4076 - val_acc: 0.5073\n",
            "Epoch 72/100\n",
            "50000/50000 [==============================] - 14s 278us/step - loss: 0.4552 - acc: 0.8365 - val_loss: 2.4163 - val_acc: 0.5012\n",
            "Epoch 73/100\n",
            "50000/50000 [==============================] - 14s 282us/step - loss: 0.4567 - acc: 0.8367 - val_loss: 2.3767 - val_acc: 0.5156\n",
            "Epoch 74/100\n",
            "50000/50000 [==============================] - 14s 278us/step - loss: 0.4294 - acc: 0.8444 - val_loss: 2.5130 - val_acc: 0.5118\n",
            "Epoch 75/100\n",
            "50000/50000 [==============================] - 14s 283us/step - loss: 0.4331 - acc: 0.8446 - val_loss: 2.4481 - val_acc: 0.5035\n",
            "Epoch 76/100\n",
            "50000/50000 [==============================] - 14s 284us/step - loss: 0.4073 - acc: 0.8538 - val_loss: 2.5658 - val_acc: 0.5081\n",
            "Epoch 77/100\n",
            "50000/50000 [==============================] - 14s 285us/step - loss: 0.4363 - acc: 0.8419 - val_loss: 2.4877 - val_acc: 0.5120\n",
            "Epoch 78/100\n",
            "50000/50000 [==============================] - 14s 286us/step - loss: 0.4193 - acc: 0.8502 - val_loss: 2.5072 - val_acc: 0.5065\n",
            "Epoch 79/100\n",
            "50000/50000 [==============================] - 14s 288us/step - loss: 0.4179 - acc: 0.8494 - val_loss: 2.6293 - val_acc: 0.5033\n",
            "Epoch 80/100\n",
            "50000/50000 [==============================] - 14s 288us/step - loss: 0.3788 - acc: 0.8638 - val_loss: 2.6243 - val_acc: 0.5102\n",
            "Epoch 81/100\n",
            "50000/50000 [==============================] - 14s 289us/step - loss: 0.3894 - acc: 0.8593 - val_loss: 2.6340 - val_acc: 0.5026\n",
            "Epoch 82/100\n",
            "50000/50000 [==============================] - 14s 288us/step - loss: 0.3806 - acc: 0.8645 - val_loss: 2.6345 - val_acc: 0.5028\n",
            "Epoch 83/100\n",
            "50000/50000 [==============================] - 14s 290us/step - loss: 0.3904 - acc: 0.8612 - val_loss: 2.5698 - val_acc: 0.4983\n",
            "Epoch 84/100\n",
            "50000/50000 [==============================] - 14s 289us/step - loss: 0.4022 - acc: 0.8551 - val_loss: 2.7135 - val_acc: 0.4986\n",
            "Epoch 85/100\n",
            "50000/50000 [==============================] - 14s 288us/step - loss: 0.3491 - acc: 0.8745 - val_loss: 2.7255 - val_acc: 0.5060\n",
            "Epoch 86/100\n",
            "50000/50000 [==============================] - 14s 288us/step - loss: 0.3657 - acc: 0.8685 - val_loss: 2.6897 - val_acc: 0.5102\n",
            "Epoch 87/100\n",
            "50000/50000 [==============================] - 14s 288us/step - loss: 0.3751 - acc: 0.8642 - val_loss: 2.7897 - val_acc: 0.5043\n",
            "Epoch 88/100\n",
            "50000/50000 [==============================] - 14s 288us/step - loss: 0.3318 - acc: 0.8801 - val_loss: 2.7111 - val_acc: 0.5055\n",
            "Epoch 89/100\n",
            "50000/50000 [==============================] - 14s 289us/step - loss: 0.3594 - acc: 0.8726 - val_loss: 2.7967 - val_acc: 0.4950\n",
            "Epoch 90/100\n",
            "50000/50000 [==============================] - 14s 288us/step - loss: 0.3572 - acc: 0.8732 - val_loss: 2.8625 - val_acc: 0.5047\n",
            "Epoch 91/100\n",
            "50000/50000 [==============================] - 15s 290us/step - loss: 0.3659 - acc: 0.8690 - val_loss: 2.8114 - val_acc: 0.5038\n",
            "Epoch 92/100\n",
            "50000/50000 [==============================] - 15s 292us/step - loss: 0.3535 - acc: 0.8725 - val_loss: 2.8570 - val_acc: 0.5054\n",
            "Epoch 93/100\n",
            "50000/50000 [==============================] - 14s 289us/step - loss: 0.3174 - acc: 0.8865 - val_loss: 2.8658 - val_acc: 0.5030\n",
            "Epoch 94/100\n",
            "50000/50000 [==============================] - 15s 290us/step - loss: 0.3240 - acc: 0.8844 - val_loss: 2.9745 - val_acc: 0.5039\n",
            "Epoch 95/100\n",
            "50000/50000 [==============================] - 14s 288us/step - loss: 0.3501 - acc: 0.8756 - val_loss: 2.8722 - val_acc: 0.5040\n",
            "Epoch 96/100\n",
            "50000/50000 [==============================] - 14s 288us/step - loss: 0.3245 - acc: 0.8845 - val_loss: 2.8840 - val_acc: 0.4964\n",
            "Epoch 97/100\n",
            "50000/50000 [==============================] - 14s 290us/step - loss: 0.3317 - acc: 0.8807 - val_loss: 2.9307 - val_acc: 0.5007\n",
            "Epoch 98/100\n",
            "50000/50000 [==============================] - 14s 287us/step - loss: 0.3229 - acc: 0.8834 - val_loss: 2.9050 - val_acc: 0.5059\n",
            "Epoch 99/100\n",
            "50000/50000 [==============================] - 14s 287us/step - loss: 0.3003 - acc: 0.8922 - val_loss: 3.0202 - val_acc: 0.5009\n",
            "Epoch 100/100\n",
            "50000/50000 [==============================] - 14s 288us/step - loss: 0.2951 - acc: 0.8943 - val_loss: 2.9977 - val_acc: 0.5048\n"
          ],
          "name": "stdout"
        },
        {
          "output_type": "execute_result",
          "data": {
            "text/plain": [
              "<keras.callbacks.History at 0x7f337a90ccf8>"
            ]
          },
          "metadata": {
            "tags": []
          },
          "execution_count": 25
        }
      ]
    },
    {
      "cell_type": "code",
      "metadata": {
        "id": "r7ID_EyBe_2I",
        "colab_type": "code",
        "colab": {
          "base_uri": "https://localhost:8080/",
          "height": 545
        },
        "outputId": "d7533497-19a1-4e43-b6cd-838d3419c8e0"
      },
      "source": [
        "import matplotlib.pyplot as plt\n",
        "\n",
        "\n",
        "train_loss = model.history.history[\"loss\"]\n",
        "valid_loss = model.history.history[\"val_loss\"]\n",
        "\n",
        "train_acc = model.history.history[\"acc\"]\n",
        "valid_acc = model.history.history[\"val_acc\"]\n",
        "\n",
        "plt.plot(range(len(train_loss)), train_loss, label=\"train loss\")\n",
        "plt.plot(range(len(valid_loss)), valid_loss, label=\"valid loss\")\n",
        "plt.legend()\n",
        "plt.title(\"Loss\")\n",
        "plt.show()\n",
        "\n",
        "plt.plot(range(len(train_acc)), train_acc, label=\"train accuracy\")\n",
        "plt.plot(range(len(valid_acc)), valid_acc, label=\"valid accuracy\")\n",
        "plt.legend()\n",
        "plt.title(\"Accuracy\")\n",
        "plt.show()"
      ],
      "execution_count": 26,
      "outputs": [
        {
          "output_type": "display_data",
          "data": {
            "image/png": "[encoded data removed]",
            "text/plain": [
              "<Figure size 432x288 with 1 Axes>"
            ]
          },
          "metadata": {
            "tags": []
          }
        },
        {
          "output_type": "display_data",
          "data": {
            "image/png": "[encoded data removed]",
            "text/plain": [
              "<Figure size 432x288 with 1 Axes>"
            ]
          },
          "metadata": {
            "tags": []
          }
        }
      ]
    }
  ]
}