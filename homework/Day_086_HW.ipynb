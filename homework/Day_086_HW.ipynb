{
  "nbformat": 4,
  "nbformat_minor": 0,
  "metadata": {
    "kernelspec": {
      "name": "python3",
      "display_name": "Python 3"
    },
    "language_info": {
      "codemirror_mode": {
        "name": "ipython",
        "version": 3
      },
      "file_extension": ".py",
      "mimetype": "text/x-python",
      "name": "python",
      "nbconvert_exporter": "python",
      "pygments_lexer": "ipython3",
      "version": "3.6.5"
    },
    "colab": {
      "name": "Day_086_HW.ipynb",
      "version": "0.3.2",
      "provenance": [],
      "collapsed_sections": []
    },
    "accelerator": "GPU"
  },
  "cells": [
    {
      "cell_type": "markdown",
      "metadata": {
        "id": "5mGXhyzRJKKB",
        "colab_type": "text"
      },
      "source": [
        "## Work\n",
        "1. 試比較 save_best_only 與否的差異\n",
        "2. 請僅存入將 save_weights_only 設定為 True, 並嘗試 reset ipynb 並將模型與權重重新建回並預測 x_test"
      ]
    },
    {
      "cell_type": "code",
      "metadata": {
        "id": "7M_qyKCsJKKH",
        "colab_type": "code",
        "colab": {}
      },
      "source": [
        "import os\n",
        "import keras\n",
        "\n",
        "# Disable GPU\n",
        "os.environ[\"CUDA_VISIBLE_DEVICES\"] = \"0\""
      ],
      "execution_count": 0,
      "outputs": []
    },
    {
      "cell_type": "code",
      "metadata": {
        "id": "WbOre7BrJKKU",
        "colab_type": "code",
        "colab": {}
      },
      "source": [
        "train, test = keras.datasets.cifar10.load_data()"
      ],
      "execution_count": 0,
      "outputs": []
    },
    {
      "cell_type": "code",
      "metadata": {
        "id": "WW3UOag5JKKo",
        "colab_type": "code",
        "colab": {}
      },
      "source": [
        "## 資料前處理\n",
        "def preproc_x(x, flatten=True):\n",
        "    x = x / 255.\n",
        "    if flatten:\n",
        "        x = x.reshape((len(x), -1))\n",
        "    return x\n",
        "\n",
        "def preproc_y(y, num_classes=10):\n",
        "    if y.shape[-1] == 1:\n",
        "        y = keras.utils.to_categorical(y, num_classes)\n",
        "    return y    "
      ],
      "execution_count": 0,
      "outputs": []
    },
    {
      "cell_type": "code",
      "metadata": {
        "id": "1Bs__BVuJKKw",
        "colab_type": "code",
        "colab": {}
      },
      "source": [
        "x_train, y_train = train\n",
        "x_test, y_test = test\n",
        "\n",
        "# Preproc the inputs\n",
        "x_train = preproc_x(x_train)\n",
        "x_test = preproc_x(x_test)\n",
        "\n",
        "# Preprc the outputs\n",
        "y_train = preproc_y(y_train)\n",
        "y_test = preproc_y(y_test)"
      ],
      "execution_count": 0,
      "outputs": []
    },
    {
      "cell_type": "code",
      "metadata": {
        "id": "hstAEriOJKK2",
        "colab_type": "code",
        "colab": {}
      },
      "source": [
        "from keras.layers import BatchNormalization\n",
        "\n",
        "def build_mlp(input_shape, output_units=10, num_neurons=[512, 256, 128]):\n",
        "    \"\"\"Code Here\n",
        "    建立你的神經網路，並加入 BN layer\n",
        "    \"\"\"\n",
        "    input_layer = keras.layers.Input(input_shape)\n",
        "    \n",
        "    for i, n_units in enumerate(num_neurons):\n",
        "        if i == 0:\n",
        "            x = keras.layers.Dense(units=n_units, \n",
        "                                   activation=\"relu\", \n",
        "                                   name=\"hidden_layer\"+str(i+1))(input_layer)\n",
        "            x = BatchNormalization()(x)\n",
        "        else:\n",
        "            x = keras.layers.Dense(units=n_units, \n",
        "                                   activation=\"relu\", \n",
        "                                   name=\"hidden_layer\"+str(i+1))(x)\n",
        "            x = BatchNormalization()(x)\n",
        "    \n",
        "    out = keras.layers.Dense(units=output_units, activation=\"softmax\", name=\"output\")(x)\n",
        "    \n",
        "    model = keras.models.Model(inputs=[input_layer], outputs=[out])\n",
        "    return model"
      ],
      "execution_count": 0,
      "outputs": []
    },
    {
      "cell_type": "code",
      "metadata": {
        "id": "1nczg29OJKK-",
        "colab_type": "code",
        "colab": {}
      },
      "source": [
        "\"\"\"Code Here\n",
        "設定超參數\n",
        "\"\"\"\n",
        "LEARNING_RATE = 1e-3\n",
        "EPOCHS = 50\n",
        "BATCH_SIZE = 1024\n",
        "MOMENTUM = 0.95"
      ],
      "execution_count": 0,
      "outputs": []
    },
    {
      "cell_type": "code",
      "metadata": {
        "id": "bor_TnZ0JKLE",
        "colab_type": "code",
        "colab": {}
      },
      "source": [
        "# 載入 Callbacks\n",
        "\"\"\"\n",
        "# 載入 Callbacks, 並將監控目標設為 validation loss, 且只存最佳參數時的模型\n",
        "\"\"\"\n",
        "from keras.callbacks import ModelCheckpoint\n",
        "\n",
        "model_ckpt = ModelCheckpoint(filepath=\"./tmp.h5\", \n",
        "                             monitor=\"val_loss\", \n",
        "                             save_best_only=True)"
      ],
      "execution_count": 0,
      "outputs": []
    },
    {
      "cell_type": "code",
      "metadata": {
        "id": "2x4PLnrhKDNO",
        "colab_type": "code",
        "outputId": "2277d9fa-0903-4b84-b1e4-8b3b44b1b1a1",
        "colab": {
          "base_uri": "https://localhost:8080/",
          "height": 1000
        }
      },
      "source": [
        "model = build_mlp(input_shape=x_train.shape[1:])\n",
        "model.summary()\n",
        "optimizer = keras.optimizers.SGD(lr=LEARNING_RATE, nesterov=True, momentum=MOMENTUM)\n",
        "model.compile(loss=\"categorical_crossentropy\", metrics=[\"accuracy\"], optimizer=optimizer)\n",
        "\n",
        "model.fit(x_train, y_train, \n",
        "          epochs=EPOCHS, \n",
        "          batch_size=BATCH_SIZE, \n",
        "          validation_data=(x_test, y_test), \n",
        "          shuffle=True,\n",
        "          callbacks=[model_ckpt]\n",
        "         )\n",
        "\n",
        "# Collect results\n",
        "train_loss = model.history.history[\"loss\"]\n",
        "valid_loss = model.history.history[\"val_loss\"]\n",
        "train_acc = model.history.history[\"acc\"]\n",
        "valid_acc = model.history.history[\"val_acc\"]"
      ],
      "execution_count": 0,
      "outputs": [
        {
          "output_type": "stream",
          "text": [
            "WARNING: Logging before flag parsing goes to stderr.\n",
            "W0808 07:46:00.169264 140006365144960 deprecation_wrapper.py:119] From /usr/local/lib/python3.6/dist-packages/keras/backend/tensorflow_backend.py:74: The name tf.get_default_graph is deprecated. Please use tf.compat.v1.get_default_graph instead.\n",
            "\n",
            "W0808 07:46:00.206223 140006365144960 deprecation_wrapper.py:119] From /usr/local/lib/python3.6/dist-packages/keras/backend/tensorflow_backend.py:517: The name tf.placeholder is deprecated. Please use tf.compat.v1.placeholder instead.\n",
            "\n",
            "W0808 07:46:00.214585 140006365144960 deprecation_wrapper.py:119] From /usr/local/lib/python3.6/dist-packages/keras/backend/tensorflow_backend.py:4138: The name tf.random_uniform is deprecated. Please use tf.random.uniform instead.\n",
            "\n",
            "W0808 07:46:00.306933 140006365144960 deprecation_wrapper.py:119] From /usr/local/lib/python3.6/dist-packages/keras/backend/tensorflow_backend.py:133: The name tf.placeholder_with_default is deprecated. Please use tf.compat.v1.placeholder_with_default instead.\n",
            "\n",
            "W0808 07:46:00.632664 140006365144960 deprecation_wrapper.py:119] From /usr/local/lib/python3.6/dist-packages/keras/optimizers.py:790: The name tf.train.Optimizer is deprecated. Please use tf.compat.v1.train.Optimizer instead.\n",
            "\n",
            "W0808 07:46:00.643029 140006365144960 deprecation_wrapper.py:119] From /usr/local/lib/python3.6/dist-packages/keras/backend/tensorflow_backend.py:3295: The name tf.log is deprecated. Please use tf.math.log instead.\n",
            "\n",
            "W0808 07:46:00.751204 140006365144960 deprecation.py:323] From /usr/local/lib/python3.6/dist-packages/tensorflow/python/ops/math_grad.py:1250: add_dispatch_support.<locals>.wrapper (from tensorflow.python.ops.array_ops) is deprecated and will be removed in a future version.\n",
            "Instructions for updating:\n",
            "Use tf.where in 2.0, which has the same broadcast rule as np.where\n"
          ],
          "name": "stderr"
        },
        {
          "output_type": "stream",
          "text": [
            "_________________________________________________________________\n",
            "Layer (type)                 Output Shape              Param #   \n",
            "=================================================================\n",
            "input_1 (InputLayer)         (None, 3072)              0         \n",
            "_________________________________________________________________\n",
            "hidden_layer1 (Dense)        (None, 512)               1573376   \n",
            "_________________________________________________________________\n",
            "batch_normalization_1 (Batch (None, 512)               2048      \n",
            "_________________________________________________________________\n",
            "hidden_layer2 (Dense)        (None, 256)               131328    \n",
            "_________________________________________________________________\n",
            "batch_normalization_2 (Batch (None, 256)               1024      \n",
            "_________________________________________________________________\n",
            "hidden_layer3 (Dense)        (None, 128)               32896     \n",
            "_________________________________________________________________\n",
            "batch_normalization_3 (Batch (None, 128)               512       \n",
            "_________________________________________________________________\n",
            "output (Dense)               (None, 10)                1290      \n",
            "=================================================================\n",
            "Total params: 1,742,474\n",
            "Trainable params: 1,740,682\n",
            "Non-trainable params: 1,792\n",
            "_________________________________________________________________\n",
            "Train on 50000 samples, validate on 10000 samples\n",
            "Epoch 1/50\n",
            "50000/50000 [==============================] - 6s 118us/step - loss: 2.1838 - acc: 0.2794 - val_loss: 2.0904 - val_acc: 0.3199\n",
            "Epoch 2/50\n",
            "50000/50000 [==============================] - 2s 32us/step - loss: 1.7354 - acc: 0.3982 - val_loss: 1.8305 - val_acc: 0.3839\n",
            "Epoch 3/50\n",
            "50000/50000 [==============================] - 2s 32us/step - loss: 1.6077 - acc: 0.4391 - val_loss: 1.6728 - val_acc: 0.4152\n",
            "Epoch 4/50\n",
            "50000/50000 [==============================] - 2s 32us/step - loss: 1.5335 - acc: 0.4636 - val_loss: 1.6269 - val_acc: 0.4344\n",
            "Epoch 5/50\n",
            "50000/50000 [==============================] - 2s 32us/step - loss: 1.4774 - acc: 0.4846 - val_loss: 1.5853 - val_acc: 0.4449\n",
            "Epoch 6/50\n",
            "50000/50000 [==============================] - 2s 32us/step - loss: 1.4314 - acc: 0.5010 - val_loss: 1.5629 - val_acc: 0.4514\n",
            "Epoch 7/50\n",
            "50000/50000 [==============================] - 2s 32us/step - loss: 1.3926 - acc: 0.5151 - val_loss: 1.5418 - val_acc: 0.4604\n",
            "Epoch 8/50\n",
            "50000/50000 [==============================] - 2s 32us/step - loss: 1.3572 - acc: 0.5263 - val_loss: 1.5246 - val_acc: 0.4619\n",
            "Epoch 9/50\n",
            "50000/50000 [==============================] - 2s 32us/step - loss: 1.3236 - acc: 0.5384 - val_loss: 1.5154 - val_acc: 0.4637\n",
            "Epoch 10/50\n",
            "50000/50000 [==============================] - 2s 32us/step - loss: 1.2929 - acc: 0.5514 - val_loss: 1.5043 - val_acc: 0.4737\n",
            "Epoch 11/50\n",
            "50000/50000 [==============================] - 2s 32us/step - loss: 1.2658 - acc: 0.5597 - val_loss: 1.4954 - val_acc: 0.4780\n",
            "Epoch 12/50\n",
            "50000/50000 [==============================] - 2s 32us/step - loss: 1.2409 - acc: 0.5699 - val_loss: 1.4813 - val_acc: 0.4821\n",
            "Epoch 13/50\n",
            "50000/50000 [==============================] - 2s 32us/step - loss: 1.2128 - acc: 0.5801 - val_loss: 1.4867 - val_acc: 0.4787\n",
            "Epoch 14/50\n",
            "50000/50000 [==============================] - 2s 32us/step - loss: 1.1906 - acc: 0.5892 - val_loss: 1.4794 - val_acc: 0.4801\n",
            "Epoch 15/50\n",
            "50000/50000 [==============================] - 2s 32us/step - loss: 1.1658 - acc: 0.5944 - val_loss: 1.4742 - val_acc: 0.4832\n",
            "Epoch 16/50\n",
            "50000/50000 [==============================] - 2s 32us/step - loss: 1.1410 - acc: 0.6084 - val_loss: 1.4779 - val_acc: 0.4832\n",
            "Epoch 17/50\n",
            "50000/50000 [==============================] - 2s 32us/step - loss: 1.1183 - acc: 0.6126 - val_loss: 1.4624 - val_acc: 0.4850\n",
            "Epoch 18/50\n",
            "50000/50000 [==============================] - 2s 32us/step - loss: 1.0943 - acc: 0.6225 - val_loss: 1.4544 - val_acc: 0.4901\n",
            "Epoch 19/50\n",
            "50000/50000 [==============================] - 2s 32us/step - loss: 1.0717 - acc: 0.6317 - val_loss: 1.4617 - val_acc: 0.4875\n",
            "Epoch 20/50\n",
            "50000/50000 [==============================] - 2s 33us/step - loss: 1.0501 - acc: 0.6407 - val_loss: 1.4637 - val_acc: 0.4851\n",
            "Epoch 21/50\n",
            "50000/50000 [==============================] - 2s 32us/step - loss: 1.0294 - acc: 0.6473 - val_loss: 1.4650 - val_acc: 0.4876\n",
            "Epoch 22/50\n",
            "50000/50000 [==============================] - 2s 32us/step - loss: 1.0097 - acc: 0.6548 - val_loss: 1.4631 - val_acc: 0.4858\n",
            "Epoch 23/50\n",
            "50000/50000 [==============================] - 2s 32us/step - loss: 0.9854 - acc: 0.6642 - val_loss: 1.4614 - val_acc: 0.4917\n",
            "Epoch 24/50\n",
            "50000/50000 [==============================] - 2s 31us/step - loss: 0.9656 - acc: 0.6717 - val_loss: 1.4851 - val_acc: 0.4892\n",
            "Epoch 25/50\n",
            "50000/50000 [==============================] - 2s 32us/step - loss: 0.9464 - acc: 0.6781 - val_loss: 1.4864 - val_acc: 0.4807\n",
            "Epoch 26/50\n",
            "50000/50000 [==============================] - 2s 31us/step - loss: 0.9248 - acc: 0.6894 - val_loss: 1.4848 - val_acc: 0.4900\n",
            "Epoch 27/50\n",
            "50000/50000 [==============================] - 2s 32us/step - loss: 0.9042 - acc: 0.6963 - val_loss: 1.4842 - val_acc: 0.4936\n",
            "Epoch 28/50\n",
            "50000/50000 [==============================] - 2s 32us/step - loss: 0.8851 - acc: 0.7028 - val_loss: 1.4819 - val_acc: 0.4913\n",
            "Epoch 29/50\n",
            "50000/50000 [==============================] - 2s 32us/step - loss: 0.8652 - acc: 0.7112 - val_loss: 1.5022 - val_acc: 0.4879\n",
            "Epoch 30/50\n",
            "50000/50000 [==============================] - 2s 32us/step - loss: 0.8448 - acc: 0.7202 - val_loss: 1.5071 - val_acc: 0.4865\n",
            "Epoch 31/50\n",
            "50000/50000 [==============================] - 2s 32us/step - loss: 0.8253 - acc: 0.7260 - val_loss: 1.5017 - val_acc: 0.4898\n",
            "Epoch 32/50\n",
            "50000/50000 [==============================] - 2s 32us/step - loss: 0.8061 - acc: 0.7355 - val_loss: 1.5132 - val_acc: 0.4933\n",
            "Epoch 33/50\n",
            "50000/50000 [==============================] - 2s 32us/step - loss: 0.7862 - acc: 0.7417 - val_loss: 1.5167 - val_acc: 0.4899\n",
            "Epoch 34/50\n",
            "50000/50000 [==============================] - 2s 32us/step - loss: 0.7685 - acc: 0.7494 - val_loss: 1.5078 - val_acc: 0.4991\n",
            "Epoch 35/50\n",
            "50000/50000 [==============================] - 2s 32us/step - loss: 0.7478 - acc: 0.7574 - val_loss: 1.5201 - val_acc: 0.4926\n",
            "Epoch 36/50\n",
            "50000/50000 [==============================] - 2s 32us/step - loss: 0.7299 - acc: 0.7649 - val_loss: 1.5281 - val_acc: 0.4949\n",
            "Epoch 37/50\n",
            "50000/50000 [==============================] - 2s 32us/step - loss: 0.7101 - acc: 0.7711 - val_loss: 1.5375 - val_acc: 0.4966\n",
            "Epoch 38/50\n",
            "50000/50000 [==============================] - 2s 32us/step - loss: 0.6908 - acc: 0.7805 - val_loss: 1.5582 - val_acc: 0.4894\n",
            "Epoch 39/50\n",
            "50000/50000 [==============================] - 2s 32us/step - loss: 0.6729 - acc: 0.7886 - val_loss: 1.5614 - val_acc: 0.4872\n",
            "Epoch 40/50\n",
            "50000/50000 [==============================] - 2s 32us/step - loss: 0.6533 - acc: 0.7964 - val_loss: 1.5775 - val_acc: 0.4868\n",
            "Epoch 41/50\n",
            "50000/50000 [==============================] - 2s 32us/step - loss: 0.6360 - acc: 0.8025 - val_loss: 1.6031 - val_acc: 0.4853\n",
            "Epoch 42/50\n",
            "50000/50000 [==============================] - 2s 32us/step - loss: 0.6179 - acc: 0.8108 - val_loss: 1.5975 - val_acc: 0.4909\n",
            "Epoch 43/50\n",
            "50000/50000 [==============================] - 2s 32us/step - loss: 0.6019 - acc: 0.8167 - val_loss: 1.6101 - val_acc: 0.4825\n",
            "Epoch 44/50\n",
            "50000/50000 [==============================] - 2s 32us/step - loss: 0.5829 - acc: 0.8228 - val_loss: 1.6359 - val_acc: 0.4896\n",
            "Epoch 45/50\n",
            "50000/50000 [==============================] - 2s 32us/step - loss: 0.5665 - acc: 0.8305 - val_loss: 1.6238 - val_acc: 0.4879\n",
            "Epoch 46/50\n",
            "50000/50000 [==============================] - 2s 32us/step - loss: 0.5496 - acc: 0.8376 - val_loss: 1.6338 - val_acc: 0.4901\n",
            "Epoch 47/50\n",
            "50000/50000 [==============================] - 2s 32us/step - loss: 0.5331 - acc: 0.8447 - val_loss: 1.6570 - val_acc: 0.4895\n",
            "Epoch 48/50\n",
            "50000/50000 [==============================] - 2s 32us/step - loss: 0.5163 - acc: 0.8506 - val_loss: 1.6750 - val_acc: 0.4886\n",
            "Epoch 49/50\n",
            "50000/50000 [==============================] - 2s 32us/step - loss: 0.4981 - acc: 0.8580 - val_loss: 1.6693 - val_acc: 0.4865\n",
            "Epoch 50/50\n",
            "50000/50000 [==============================] - 2s 32us/step - loss: 0.4826 - acc: 0.8641 - val_loss: 1.6755 - val_acc: 0.4854\n"
          ],
          "name": "stdout"
        }
      ]
    },
    {
      "cell_type": "code",
      "metadata": {
        "id": "Qf1_3N-uKjyB",
        "colab_type": "code",
        "outputId": "54c830ff-d1be-4ecb-faac-a1a0cddcbca0",
        "colab": {
          "base_uri": "https://localhost:8080/",
          "height": 35
        }
      },
      "source": [
        "# Load back\n",
        "model = keras.models.load_model(\"./tmp.h5\")\n",
        "loss_loadback, acc_loadback = model.evaluate(x_test, y_test)"
      ],
      "execution_count": 20,
      "outputs": [
        {
          "output_type": "stream",
          "text": [
            "10000/10000 [==============================] - 1s 89us/step\n"
          ],
          "name": "stdout"
        }
      ]
    },
    {
      "cell_type": "code",
      "metadata": {
        "scrolled": true,
        "id": "tvnxa5qvJKLL",
        "colab_type": "code",
        "outputId": "a94d7432-e54e-4def-ec7a-468a562946cb",
        "colab": {
          "base_uri": "https://localhost:8080/",
          "height": 545
        }
      },
      "source": [
        "import matplotlib.pyplot as plt\n",
        "%matplotlib inline\n",
        "\"\"\"Code Here\n",
        "將結果繪出\n",
        "\"\"\"\n",
        "\n",
        "plt.plot(range(len(train_loss)), train_loss, label=\"train loss\")\n",
        "plt.plot(range(len(valid_loss)), valid_loss, label=\"valid loss\")\n",
        "plt.hlines(y=loss_loadback, xmin=0, xmax=len(train_loss), colors='r', linestyles='--')\n",
        "plt.legend()\n",
        "plt.title(\"Loss\")\n",
        "plt.show()\n",
        "\n",
        "plt.plot(range(len(train_acc)), train_acc, label=\"train accuracy\")\n",
        "plt.plot(range(len(valid_acc)), valid_acc, label=\"valid accuracy\")\n",
        "plt.hlines(y=acc_loadback, xmin=0, xmax=len(train_loss), colors='r', linestyles='--')\n",
        "plt.legend()\n",
        "plt.title(\"Accuracy\")\n",
        "plt.show()"
      ],
      "execution_count": 21,
      "outputs": [
        {
          "output_type": "display_data",
          "data": {
            "image/png": "[encoded data removed]",
            "text/plain": [
              "<Figure size 432x288 with 1 Axes>"
            ]
          },
          "metadata": {
            "tags": []
          }
        },
        {
          "output_type": "display_data",
          "data": {
            "image/png": "[encoded data removed]",
            "text/plain": [
              "<Figure size 432x288 with 1 Axes>"
            ]
          },
          "metadata": {
            "tags": []
          }
        }
      ]
    }
  ]
}