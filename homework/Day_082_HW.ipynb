{
  "nbformat": 4,
  "nbformat_minor": 0,
  "metadata": {
    "kernelspec": {
      "display_name": "Python 3",
      "language": "python",
      "name": "python3"
    },
    "language_info": {
      "codemirror_mode": {
        "name": "ipython",
        "version": 3
      },
      "file_extension": ".py",
      "mimetype": "text/x-python",
      "name": "python",
      "nbconvert_exporter": "python",
      "pygments_lexer": "ipython3",
      "version": "3.6.5"
    },
    "colab": {
      "name": "Day_082_HW.ipynb",
      "version": "0.3.2",
      "provenance": [],
      "collapsed_sections": []
    }
  },
  "cells": [
    {
      "cell_type": "markdown",
      "metadata": {
        "id": "7H-47ydPGCwF",
        "colab_type": "text"
      },
      "source": [
        "## Work\n",
        "1. 請比較使用不同層數以及不同 Dropout rate 對訓練的效果\n",
        "2. 將 optimizer 改成使用 Adam 並加上適當的 dropout rate 檢視結果"
      ]
    },
    {
      "cell_type": "code",
      "metadata": {
        "id": "Qh_n3ivpGCwL",
        "colab_type": "code",
        "colab": {
          "base_uri": "https://localhost:8080/",
          "height": 35
        },
        "outputId": "b8d13839-e9c5-4abd-ba30-dd5bba5d56b8"
      },
      "source": [
        "import os\n",
        "import keras\n",
        "import itertools\n",
        "# Disable GPU\n",
        "os.environ[\"CUDA_VISIBLE_DEVICES\"] = \"\""
      ],
      "execution_count": 1,
      "outputs": [
        {
          "output_type": "stream",
          "text": [
            "Using TensorFlow backend.\n"
          ],
          "name": "stderr"
        }
      ]
    },
    {
      "cell_type": "code",
      "metadata": {
        "id": "82jSigFmGCwY",
        "colab_type": "code",
        "colab": {}
      },
      "source": [
        "train, test = keras.datasets.cifar10.load_data()"
      ],
      "execution_count": 0,
      "outputs": []
    },
    {
      "cell_type": "code",
      "metadata": {
        "id": "TgUN2-bvGCwh",
        "colab_type": "code",
        "colab": {}
      },
      "source": [
        "## 資料前處理\n",
        "def preproc_x(x, flatten=True):\n",
        "    x = x / 255.\n",
        "    if flatten:\n",
        "        x = x.reshape((len(x), -1))\n",
        "    return x\n",
        "\n",
        "def preproc_y(y, num_classes=10):\n",
        "    if y.shape[-1] == 1:\n",
        "        y = keras.utils.to_categorical(y, num_classes)\n",
        "    return y    "
      ],
      "execution_count": 0,
      "outputs": []
    },
    {
      "cell_type": "code",
      "metadata": {
        "id": "_dwH4SzJGCwo",
        "colab_type": "code",
        "colab": {}
      },
      "source": [
        "x_train, y_train = train\n",
        "x_test, y_test = test\n",
        "\n",
        "# Preproc the inputs\n",
        "x_train = preproc_x(x_train)\n",
        "x_test = preproc_x(x_test)\n",
        "\n",
        "# Preprc the outputs\n",
        "y_train = preproc_y(y_train)\n",
        "y_test = preproc_y(y_test)"
      ],
      "execution_count": 0,
      "outputs": []
    },
    {
      "cell_type": "code",
      "metadata": {
        "id": "H9IyXd_eGCwv",
        "colab_type": "code",
        "colab": {}
      },
      "source": [
        "from keras.layers import Dropout\n",
        "\n",
        "def build_mlp(input_shape, output_units=10, num_neurons=[512, 256, 128], drp_ratio=0.2):\n",
        "    \"\"\"Code Here\n",
        "    建立你的神經網路\n",
        "    \"\"\"\n",
        "    input_layer = keras.layers.Input(input_shape)\n",
        "    \n",
        "    for i, n_units in enumerate(num_neurons):\n",
        "        if i == 0:\n",
        "            x = keras.layers.Dense(units=n_units, \n",
        "                                   activation=\"relu\", \n",
        "                                   name=\"hidden_layer\"+str(i+1))(input_layer)\n",
        "            x = Dropout(drp_ratio)(x)\n",
        "        else:\n",
        "            x = keras.layers.Dense(units=n_units, \n",
        "                                   activation=\"relu\", \n",
        "                                   name=\"hidden_layer\"+str(i+1))(x)\n",
        "            x = Dropout(drp_ratio)(x)\n",
        "    \n",
        "    out = keras.layers.Dense(units=output_units, activation=\"softmax\", name=\"output\")(x)\n",
        "    \n",
        "    model = keras.models.Model(inputs=[input_layer], outputs=[out])\n",
        "    return model"
      ],
      "execution_count": 0,
      "outputs": []
    },
    {
      "cell_type": "code",
      "metadata": {
        "id": "xM3zGorTGCw6",
        "colab_type": "code",
        "colab": {}
      },
      "source": [
        "\"\"\"Code Here\n",
        "設定超參數\n",
        "\"\"\"\n",
        "LEARNING_RATE = 1e-3\n",
        "EPOCHS = 50\n",
        "BATCH_SIZE = 256\n",
        "MOMENTUM = 0.95\n",
        "Dropout_EXP = 0.25"
      ],
      "execution_count": 0,
      "outputs": []
    },
    {
      "cell_type": "code",
      "metadata": {
        "scrolled": true,
        "id": "iwAPDcyrGCxF",
        "colab_type": "code",
        "colab": {
          "base_uri": "https://localhost:8080/",
          "height": 1000
        },
        "outputId": "6a071b4e-3ae7-4ac7-9b70-a2145a3e0322"
      },
      "source": [
        "\"\"\"Code Here\n",
        "撰寫你的訓練流程\n",
        "\"\"\"\n",
        "model = build_mlp(input_shape=x_train.shape[1:], drp_ratio=Dropout_EXP)\n",
        "model.summary()\n",
        "optimizer = keras.optimizers.Adam(lr=LEARNING_RATE)\n",
        "model.compile(loss=\"categorical_crossentropy\", metrics=[\"accuracy\"], optimizer=optimizer)\n",
        "\n",
        "model.fit(x_train, y_train, \n",
        "          epochs=EPOCHS, \n",
        "          batch_size=BATCH_SIZE, \n",
        "          validation_data=(x_test, y_test), \n",
        "          shuffle=True)\n",
        "\n",
        "# Collect results\n",
        "train_loss = model.history.history[\"loss\"]\n",
        "valid_loss = model.history.history[\"val_loss\"]\n",
        "train_acc = model.history.history[\"acc\"]\n",
        "valid_acc = model.history.history[\"val_acc\"]"
      ],
      "execution_count": 13,
      "outputs": [
        {
          "output_type": "stream",
          "text": [
            "W0807 03:32:06.970463 139767156877184 deprecation_wrapper.py:119] From /usr/local/lib/python3.6/dist-packages/keras/optimizers.py:790: The name tf.train.Optimizer is deprecated. Please use tf.compat.v1.train.Optimizer instead.\n",
            "\n",
            "W0807 03:32:06.979700 139767156877184 deprecation_wrapper.py:119] From /usr/local/lib/python3.6/dist-packages/keras/backend/tensorflow_backend.py:3295: The name tf.log is deprecated. Please use tf.math.log instead.\n",
            "\n",
            "W0807 03:32:07.081069 139767156877184 deprecation.py:323] From /usr/local/lib/python3.6/dist-packages/tensorflow/python/ops/math_grad.py:1250: add_dispatch_support.<locals>.wrapper (from tensorflow.python.ops.array_ops) is deprecated and will be removed in a future version.\n",
            "Instructions for updating:\n",
            "Use tf.where in 2.0, which has the same broadcast rule as np.where\n"
          ],
          "name": "stderr"
        },
        {
          "output_type": "stream",
          "text": [
            "_________________________________________________________________\n",
            "Layer (type)                 Output Shape              Param #   \n",
            "=================================================================\n",
            "input_4 (InputLayer)         (None, 3072)              0         \n",
            "_________________________________________________________________\n",
            "hidden_layer1 (Dense)        (None, 512)               1573376   \n",
            "_________________________________________________________________\n",
            "dropout_7 (Dropout)          (None, 512)               0         \n",
            "_________________________________________________________________\n",
            "hidden_layer2 (Dense)        (None, 256)               131328    \n",
            "_________________________________________________________________\n",
            "dropout_8 (Dropout)          (None, 256)               0         \n",
            "_________________________________________________________________\n",
            "hidden_layer3 (Dense)        (None, 128)               32896     \n",
            "_________________________________________________________________\n",
            "dropout_9 (Dropout)          (None, 128)               0         \n",
            "_________________________________________________________________\n",
            "output (Dense)               (None, 10)                1290      \n",
            "=================================================================\n",
            "Total params: 1,738,890\n",
            "Trainable params: 1,738,890\n",
            "Non-trainable params: 0\n",
            "_________________________________________________________________\n",
            "Train on 50000 samples, validate on 10000 samples\n",
            "Epoch 1/50\n",
            "50000/50000 [==============================] - 14s 289us/step - loss: 2.0648 - acc: 0.2327 - val_loss: 1.8562 - val_acc: 0.3284\n",
            "Epoch 2/50\n",
            "50000/50000 [==============================] - 14s 281us/step - loss: 1.8735 - acc: 0.3169 - val_loss: 1.7572 - val_acc: 0.3665\n",
            "Epoch 3/50\n",
            "50000/50000 [==============================] - 14s 282us/step - loss: 1.8188 - acc: 0.3397 - val_loss: 1.6996 - val_acc: 0.3870\n",
            "Epoch 4/50\n",
            "50000/50000 [==============================] - 14s 279us/step - loss: 1.7683 - acc: 0.3577 - val_loss: 1.7111 - val_acc: 0.3790\n",
            "Epoch 5/50\n",
            "50000/50000 [==============================] - 14s 284us/step - loss: 1.7361 - acc: 0.3733 - val_loss: 1.6359 - val_acc: 0.4107\n",
            "Epoch 6/50\n",
            "50000/50000 [==============================] - 14s 286us/step - loss: 1.7196 - acc: 0.3762 - val_loss: 1.6313 - val_acc: 0.4203\n",
            "Epoch 7/50\n",
            "50000/50000 [==============================] - 14s 283us/step - loss: 1.7084 - acc: 0.3843 - val_loss: 1.6167 - val_acc: 0.4263\n",
            "Epoch 8/50\n",
            "50000/50000 [==============================] - 14s 282us/step - loss: 1.6969 - acc: 0.3878 - val_loss: 1.6033 - val_acc: 0.4351\n",
            "Epoch 9/50\n",
            "50000/50000 [==============================] - 14s 288us/step - loss: 1.6679 - acc: 0.3998 - val_loss: 1.5836 - val_acc: 0.4387\n",
            "Epoch 10/50\n",
            "50000/50000 [==============================] - 14s 281us/step - loss: 1.6640 - acc: 0.3969 - val_loss: 1.5831 - val_acc: 0.4447\n",
            "Epoch 11/50\n",
            "50000/50000 [==============================] - 14s 282us/step - loss: 1.6477 - acc: 0.4085 - val_loss: 1.5704 - val_acc: 0.4445\n",
            "Epoch 12/50\n",
            "50000/50000 [==============================] - 14s 282us/step - loss: 1.6335 - acc: 0.4116 - val_loss: 1.5773 - val_acc: 0.4461\n",
            "Epoch 13/50\n",
            "50000/50000 [==============================] - 14s 281us/step - loss: 1.6256 - acc: 0.4148 - val_loss: 1.5659 - val_acc: 0.4492\n",
            "Epoch 14/50\n",
            "50000/50000 [==============================] - 14s 283us/step - loss: 1.6174 - acc: 0.4170 - val_loss: 1.5522 - val_acc: 0.4532\n",
            "Epoch 15/50\n",
            "50000/50000 [==============================] - 14s 280us/step - loss: 1.6034 - acc: 0.4240 - val_loss: 1.5621 - val_acc: 0.4465\n",
            "Epoch 16/50\n",
            "50000/50000 [==============================] - 14s 278us/step - loss: 1.6031 - acc: 0.4213 - val_loss: 1.5367 - val_acc: 0.4495\n",
            "Epoch 17/50\n",
            "50000/50000 [==============================] - 14s 278us/step - loss: 1.5960 - acc: 0.4250 - val_loss: 1.5342 - val_acc: 0.4566\n",
            "Epoch 18/50\n",
            "50000/50000 [==============================] - 14s 277us/step - loss: 1.5981 - acc: 0.4248 - val_loss: 1.5120 - val_acc: 0.4603\n",
            "Epoch 19/50\n",
            "50000/50000 [==============================] - 14s 276us/step - loss: 1.5864 - acc: 0.4294 - val_loss: 1.5031 - val_acc: 0.4681\n",
            "Epoch 20/50\n",
            "50000/50000 [==============================] - 14s 280us/step - loss: 1.5704 - acc: 0.4347 - val_loss: 1.5054 - val_acc: 0.4728\n",
            "Epoch 21/50\n",
            "50000/50000 [==============================] - 14s 281us/step - loss: 1.5700 - acc: 0.4319 - val_loss: 1.4997 - val_acc: 0.4641\n",
            "Epoch 22/50\n",
            "50000/50000 [==============================] - 14s 277us/step - loss: 1.5682 - acc: 0.4332 - val_loss: 1.5242 - val_acc: 0.4644\n",
            "Epoch 23/50\n",
            "50000/50000 [==============================] - 14s 280us/step - loss: 1.5597 - acc: 0.4381 - val_loss: 1.5148 - val_acc: 0.4679\n",
            "Epoch 24/50\n",
            "50000/50000 [==============================] - 14s 279us/step - loss: 1.5498 - acc: 0.4417 - val_loss: 1.4826 - val_acc: 0.4795\n",
            "Epoch 25/50\n",
            "50000/50000 [==============================] - 14s 278us/step - loss: 1.5526 - acc: 0.4405 - val_loss: 1.4949 - val_acc: 0.4772\n",
            "Epoch 26/50\n",
            "50000/50000 [==============================] - 14s 279us/step - loss: 1.5422 - acc: 0.4424 - val_loss: 1.4949 - val_acc: 0.4760\n",
            "Epoch 27/50\n",
            "50000/50000 [==============================] - 14s 278us/step - loss: 1.5334 - acc: 0.4478 - val_loss: 1.4978 - val_acc: 0.4697\n",
            "Epoch 28/50\n",
            "50000/50000 [==============================] - 14s 282us/step - loss: 1.5356 - acc: 0.4452 - val_loss: 1.4789 - val_acc: 0.4817\n",
            "Epoch 29/50\n",
            "50000/50000 [==============================] - 14s 282us/step - loss: 1.5334 - acc: 0.4460 - val_loss: 1.4800 - val_acc: 0.4742\n",
            "Epoch 30/50\n",
            "50000/50000 [==============================] - 14s 281us/step - loss: 1.5233 - acc: 0.4544 - val_loss: 1.4670 - val_acc: 0.4767\n",
            "Epoch 31/50\n",
            "50000/50000 [==============================] - 14s 285us/step - loss: 1.5263 - acc: 0.4517 - val_loss: 1.4656 - val_acc: 0.4843\n",
            "Epoch 32/50\n",
            "50000/50000 [==============================] - 14s 279us/step - loss: 1.5219 - acc: 0.4508 - val_loss: 1.4876 - val_acc: 0.4811\n",
            "Epoch 33/50\n",
            "50000/50000 [==============================] - 14s 278us/step - loss: 1.5199 - acc: 0.4533 - val_loss: 1.4536 - val_acc: 0.4826\n",
            "Epoch 34/50\n",
            "50000/50000 [==============================] - 14s 280us/step - loss: 1.5179 - acc: 0.4513 - val_loss: 1.4740 - val_acc: 0.4837\n",
            "Epoch 35/50\n",
            "50000/50000 [==============================] - 14s 282us/step - loss: 1.5107 - acc: 0.4565 - val_loss: 1.4547 - val_acc: 0.4853\n",
            "Epoch 36/50\n",
            "50000/50000 [==============================] - 14s 283us/step - loss: 1.5111 - acc: 0.4574 - val_loss: 1.4722 - val_acc: 0.4859\n",
            "Epoch 37/50\n",
            "50000/50000 [==============================] - 14s 287us/step - loss: 1.5014 - acc: 0.4598 - val_loss: 1.4604 - val_acc: 0.4884\n",
            "Epoch 38/50\n",
            "50000/50000 [==============================] - 14s 280us/step - loss: 1.4939 - acc: 0.4632 - val_loss: 1.4665 - val_acc: 0.4758\n",
            "Epoch 39/50\n",
            "50000/50000 [==============================] - 14s 278us/step - loss: 1.4932 - acc: 0.4639 - val_loss: 1.4442 - val_acc: 0.4818\n",
            "Epoch 40/50\n",
            "50000/50000 [==============================] - 14s 275us/step - loss: 1.5006 - acc: 0.4592 - val_loss: 1.4341 - val_acc: 0.4930\n",
            "Epoch 41/50\n",
            "50000/50000 [==============================] - 14s 277us/step - loss: 1.4891 - acc: 0.4668 - val_loss: 1.4540 - val_acc: 0.4798\n",
            "Epoch 42/50\n",
            "50000/50000 [==============================] - 14s 276us/step - loss: 1.4877 - acc: 0.4645 - val_loss: 1.4366 - val_acc: 0.4905\n",
            "Epoch 43/50\n",
            "50000/50000 [==============================] - 14s 277us/step - loss: 1.4830 - acc: 0.4636 - val_loss: 1.4615 - val_acc: 0.4856\n",
            "Epoch 44/50\n",
            "50000/50000 [==============================] - 14s 279us/step - loss: 1.4838 - acc: 0.4666 - val_loss: 1.4366 - val_acc: 0.4889\n",
            "Epoch 45/50\n",
            "50000/50000 [==============================] - 14s 275us/step - loss: 1.4802 - acc: 0.4682 - val_loss: 1.4525 - val_acc: 0.4736\n",
            "Epoch 46/50\n",
            "50000/50000 [==============================] - 14s 276us/step - loss: 1.4847 - acc: 0.4662 - val_loss: 1.4411 - val_acc: 0.4886\n",
            "Epoch 47/50\n",
            "50000/50000 [==============================] - 14s 276us/step - loss: 1.4734 - acc: 0.4701 - val_loss: 1.4368 - val_acc: 0.4941\n",
            "Epoch 48/50\n",
            "50000/50000 [==============================] - 14s 276us/step - loss: 1.4752 - acc: 0.4695 - val_loss: 1.4321 - val_acc: 0.4916\n",
            "Epoch 49/50\n",
            "50000/50000 [==============================] - 14s 273us/step - loss: 1.4688 - acc: 0.4709 - val_loss: 1.4309 - val_acc: 0.4935\n",
            "Epoch 50/50\n",
            "50000/50000 [==============================] - 14s 270us/step - loss: 1.4754 - acc: 0.4673 - val_loss: 1.4447 - val_acc: 0.4961\n"
          ],
          "name": "stdout"
        }
      ]
    },
    {
      "cell_type": "code",
      "metadata": {
        "id": "ndnBCNDvGCxM",
        "colab_type": "code",
        "colab": {
          "base_uri": "https://localhost:8080/",
          "height": 545
        },
        "outputId": "77b2a2be-0043-443c-8d9a-1bb32e3d62fb"
      },
      "source": [
        "import matplotlib.pyplot as plt\n",
        "%matplotlib inline\n",
        "\"\"\"Code Here\n",
        "將結果繪出\n",
        "\"\"\"\n",
        "plt.plot(range(len(train_loss)), train_loss, label=\"train loss\")\n",
        "plt.plot(range(len(valid_loss)), valid_loss, label=\"valid loss\")\n",
        "plt.legend()\n",
        "plt.title(\"Loss\")\n",
        "plt.show()\n",
        "\n",
        "plt.plot(range(len(train_acc)), train_acc, label=\"train accuracy\")\n",
        "plt.plot(range(len(valid_acc)), valid_acc, label=\"valid accuracy\")\n",
        "plt.legend()\n",
        "plt.title(\"Accuracy\")\n",
        "plt.show()"
      ],
      "execution_count": 14,
      "outputs": [
        {
          "output_type": "display_data",
          "data": {
            "image/png": "[encoded data removed]",
            "text/plain": [
              "<Figure size 432x288 with 1 Axes>"
            ]
          },
          "metadata": {
            "tags": []
          }
        },
        {
          "output_type": "display_data",
          "data": {
            "image/png": "[encoded data removed]",
            "text/plain": [
              "<Figure size 432x288 with 1 Axes>"
            ]
          },
          "metadata": {
            "tags": []
          }
        }
      ]
    }
  ]
}