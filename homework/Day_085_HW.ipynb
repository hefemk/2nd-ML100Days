{
 "cells": [
  {
   "cell_type": "markdown",
   "metadata": {
    "colab_type": "text",
    "id": "NkLt-HAn-POX"
   },
   "source": [
    "## Work\n",
    "1. 試改變 monitor \"Validation Accuracy\" 並比較結果\n",
    "2. 調整 earlystop 的等待次數至 10, 25 並比較結果"
   ]
  },
  {
   "cell_type": "code",
   "execution_count": 1,
   "metadata": {
    "colab": {
     "base_uri": "https://localhost:8080/",
     "height": 35
    },
    "colab_type": "code",
    "id": "GtXPKa4g-POf",
    "outputId": "31b39691-2a82-4d8a-8322-26245c0d432d"
   },
   "outputs": [
    {
     "name": "stderr",
     "output_type": "stream",
     "text": [
      "Using TensorFlow backend.\n"
     ]
    }
   ],
   "source": [
    "import os\n",
    "import keras\n",
    "import matplotlib.pyplot as plt\n",
    "%matplotlib inline\n",
    "\n",
    "\n",
    "# Disable GPU\n",
    "os.environ[\"CUDA_VISIBLE_DEVICES\"] = \"0\""
   ]
  },
  {
   "cell_type": "code",
   "execution_count": 0,
   "metadata": {
    "colab": {},
    "colab_type": "code",
    "id": "7IldhwQU-POv"
   },
   "outputs": [],
   "source": [
    "train, test = keras.datasets.cifar10.load_data()"
   ]
  },
  {
   "cell_type": "code",
   "execution_count": 0,
   "metadata": {
    "colab": {},
    "colab_type": "code",
    "id": "B409mjTz-PO5"
   },
   "outputs": [],
   "source": [
    "## 資料前處理\n",
    "def preproc_x(x, flatten=True):\n",
    "    x = x / 255.\n",
    "    if flatten:\n",
    "        x = x.reshape((len(x), -1))\n",
    "    return x\n",
    "\n",
    "def preproc_y(y, num_classes=10):\n",
    "    if y.shape[-1] == 1:\n",
    "        y = keras.utils.to_categorical(y, num_classes)\n",
    "    return y    "
   ]
  },
  {
   "cell_type": "code",
   "execution_count": 0,
   "metadata": {
    "colab": {},
    "colab_type": "code",
    "id": "obN8lbqj-PPB"
   },
   "outputs": [],
   "source": [
    "x_train, y_train = train\n",
    "x_test, y_test = test\n",
    "\n",
    "# Preproc the inputs\n",
    "x_train = preproc_x(x_train)\n",
    "x_test = preproc_x(x_test)\n",
    "\n",
    "# Preprc the outputs\n",
    "y_train = preproc_y(y_train)\n",
    "y_test = preproc_y(y_test)"
   ]
  },
  {
   "cell_type": "code",
   "execution_count": 0,
   "metadata": {
    "colab": {},
    "colab_type": "code",
    "id": "poX6trw0-PPI"
   },
   "outputs": [],
   "source": [
    "from keras.layers import BatchNormalization\n",
    "\n",
    "def build_mlp(input_shape, output_units=10, num_neurons=[512, 256, 128]):\n",
    "    \"\"\"Code Here\n",
    "    建立你的神經網路，並加入 BN layer\n",
    "    \"\"\"\n",
    "    input_layer = keras.layers.Input(input_shape)\n",
    "    \n",
    "    for i, n_units in enumerate(num_neurons):\n",
    "        if i == 0:\n",
    "            x = keras.layers.Dense(units=n_units, \n",
    "                                   activation=\"relu\", \n",
    "                                   name=\"hidden_layer\"+str(i+1))(input_layer)\n",
    "            x = BatchNormalization()(x)\n",
    "        else:\n",
    "            x = keras.layers.Dense(units=n_units, \n",
    "                                   activation=\"relu\", \n",
    "                                   name=\"hidden_layer\"+str(i+1))(x)\n",
    "            x = BatchNormalization()(x)\n",
    "    \n",
    "    out = keras.layers.Dense(units=output_units, activation=\"softmax\", name=\"output\")(x)\n",
    "    \n",
    "    model = keras.models.Model(inputs=[input_layer], outputs=[out])\n",
    "    return model"
   ]
  },
  {
   "cell_type": "code",
   "execution_count": 0,
   "metadata": {
    "colab": {},
    "colab_type": "code",
    "id": "hJfATh5m-PPR"
   },
   "outputs": [],
   "source": [
    "\"\"\"Code Here\n",
    "設定超參數\n",
    "\"\"\"\n",
    "LEARNING_RATE = 1e-3\n",
    "EPOCHS = 50\n",
    "BATCH_SIZE = 1024\n",
    "MOMENTUM = 0.95\n",
    "PATIENCE = [10, 25]"
   ]
  },
  {
   "cell_type": "code",
   "execution_count": 0,
   "metadata": {
    "colab": {},
    "colab_type": "code",
    "id": "ETh5abHi-PPX"
   },
   "outputs": [],
   "source": [
    "# 載入 Callbacks\n",
    "\"\"\"Code Here\n",
    "設定 callbacks: Earlystop\n",
    "\"\"\"\n",
    "from keras.callbacks import EarlyStopping"
   ]
  },
  {
   "cell_type": "code",
   "execution_count": 8,
   "metadata": {
    "colab": {
     "base_uri": "https://localhost:8080/",
     "height": 1000
    },
    "colab_type": "code",
    "id": "C-0hYD16-2Hq",
    "outputId": "5f3539ca-6d4a-4bd7-b157-891c64bff4f5"
   },
   "outputs": [
    {
     "name": "stderr",
     "output_type": "stream",
     "text": [
      "WARNING: Logging before flag parsing goes to stderr.\n",
      "W0808 06:52:43.527134 140288208054144 deprecation_wrapper.py:119] From /usr/local/lib/python3.6/dist-packages/keras/backend/tensorflow_backend.py:74: The name tf.get_default_graph is deprecated. Please use tf.compat.v1.get_default_graph instead.\n",
      "\n",
      "W0808 06:52:43.538668 140288208054144 deprecation_wrapper.py:119] From /usr/local/lib/python3.6/dist-packages/keras/backend/tensorflow_backend.py:517: The name tf.placeholder is deprecated. Please use tf.compat.v1.placeholder instead.\n",
      "\n",
      "W0808 06:52:43.541014 140288208054144 deprecation_wrapper.py:119] From /usr/local/lib/python3.6/dist-packages/keras/backend/tensorflow_backend.py:4138: The name tf.random_uniform is deprecated. Please use tf.random.uniform instead.\n",
      "\n",
      "W0808 06:52:43.625710 140288208054144 deprecation_wrapper.py:119] From /usr/local/lib/python3.6/dist-packages/keras/backend/tensorflow_backend.py:133: The name tf.placeholder_with_default is deprecated. Please use tf.compat.v1.placeholder_with_default instead.\n",
      "\n",
      "W0808 06:52:43.942179 140288208054144 deprecation_wrapper.py:119] From /usr/local/lib/python3.6/dist-packages/keras/optimizers.py:790: The name tf.train.Optimizer is deprecated. Please use tf.compat.v1.train.Optimizer instead.\n",
      "\n",
      "W0808 06:52:43.951033 140288208054144 deprecation_wrapper.py:119] From /usr/local/lib/python3.6/dist-packages/keras/backend/tensorflow_backend.py:3295: The name tf.log is deprecated. Please use tf.math.log instead.\n",
      "\n"
     ]
    },
    {
     "name": "stdout",
     "output_type": "stream",
     "text": [
      "_________________________________________________________________\n",
      "Layer (type)                 Output Shape              Param #   \n",
      "=================================================================\n",
      "input_1 (InputLayer)         (None, 3072)              0         \n",
      "_________________________________________________________________\n",
      "hidden_layer1 (Dense)        (None, 512)               1573376   \n",
      "_________________________________________________________________\n",
      "batch_normalization_1 (Batch (None, 512)               2048      \n",
      "_________________________________________________________________\n",
      "hidden_layer2 (Dense)        (None, 256)               131328    \n",
      "_________________________________________________________________\n",
      "batch_normalization_2 (Batch (None, 256)               1024      \n",
      "_________________________________________________________________\n",
      "hidden_layer3 (Dense)        (None, 128)               32896     \n",
      "_________________________________________________________________\n",
      "batch_normalization_3 (Batch (None, 128)               512       \n",
      "_________________________________________________________________\n",
      "output (Dense)               (None, 10)                1290      \n",
      "=================================================================\n",
      "Total params: 1,742,474\n",
      "Trainable params: 1,740,682\n",
      "Non-trainable params: 1,792\n",
      "_________________________________________________________________\n"
     ]
    },
    {
     "name": "stderr",
     "output_type": "stream",
     "text": [
      "W0808 06:52:44.041893 140288208054144 deprecation.py:323] From /usr/local/lib/python3.6/dist-packages/tensorflow/python/ops/math_grad.py:1250: add_dispatch_support.<locals>.wrapper (from tensorflow.python.ops.array_ops) is deprecated and will be removed in a future version.\n",
      "Instructions for updating:\n",
      "Use tf.where in 2.0, which has the same broadcast rule as np.where\n"
     ]
    },
    {
     "name": "stdout",
     "output_type": "stream",
     "text": [
      "Train on 50000 samples, validate on 10000 samples\n",
      "Epoch 1/50\n",
      "50000/50000 [==============================] - 3s 54us/step - loss: 2.2108 - acc: 0.2709 - val_loss: 2.1830 - val_acc: 0.3040\n",
      "Epoch 2/50\n",
      "50000/50000 [==============================] - 1s 27us/step - loss: 1.7502 - acc: 0.3913 - val_loss: 1.8230 - val_acc: 0.3708\n",
      "Epoch 3/50\n",
      "50000/50000 [==============================] - 1s 28us/step - loss: 1.6228 - acc: 0.4338 - val_loss: 1.6792 - val_acc: 0.4078\n",
      "Epoch 4/50\n",
      "50000/50000 [==============================] - 1s 28us/step - loss: 1.5480 - acc: 0.4580 - val_loss: 1.6434 - val_acc: 0.4188\n",
      "Epoch 5/50\n",
      "50000/50000 [==============================] - 1s 27us/step - loss: 1.4950 - acc: 0.4784 - val_loss: 1.5877 - val_acc: 0.4438\n",
      "Epoch 6/50\n",
      "50000/50000 [==============================] - 1s 28us/step - loss: 1.4485 - acc: 0.4961 - val_loss: 1.5622 - val_acc: 0.4507\n",
      "Epoch 7/50\n",
      "50000/50000 [==============================] - 1s 27us/step - loss: 1.4083 - acc: 0.5075 - val_loss: 1.5503 - val_acc: 0.4491\n",
      "Epoch 8/50\n",
      "50000/50000 [==============================] - 1s 27us/step - loss: 1.3721 - acc: 0.5227 - val_loss: 1.5286 - val_acc: 0.4641\n",
      "Epoch 9/50\n",
      "50000/50000 [==============================] - 1s 27us/step - loss: 1.3381 - acc: 0.5347 - val_loss: 1.5148 - val_acc: 0.4610\n",
      "Epoch 10/50\n",
      "50000/50000 [==============================] - 1s 27us/step - loss: 1.3073 - acc: 0.5473 - val_loss: 1.5072 - val_acc: 0.4710\n",
      "Epoch 11/50\n",
      "50000/50000 [==============================] - 1s 28us/step - loss: 1.2793 - acc: 0.5573 - val_loss: 1.4951 - val_acc: 0.4736\n",
      "Epoch 12/50\n",
      "50000/50000 [==============================] - 1s 28us/step - loss: 1.2514 - acc: 0.5674 - val_loss: 1.4827 - val_acc: 0.4785\n",
      "Epoch 13/50\n",
      "50000/50000 [==============================] - 1s 27us/step - loss: 1.2226 - acc: 0.5767 - val_loss: 1.4769 - val_acc: 0.4805\n",
      "Epoch 14/50\n",
      "50000/50000 [==============================] - 1s 27us/step - loss: 1.1982 - acc: 0.5867 - val_loss: 1.4714 - val_acc: 0.4799\n",
      "Epoch 15/50\n",
      "50000/50000 [==============================] - 1s 28us/step - loss: 1.1736 - acc: 0.5953 - val_loss: 1.4751 - val_acc: 0.4797\n",
      "Epoch 16/50\n",
      "50000/50000 [==============================] - 1s 29us/step - loss: 1.1492 - acc: 0.6054 - val_loss: 1.4641 - val_acc: 0.4930\n",
      "Epoch 17/50\n",
      "50000/50000 [==============================] - 1s 28us/step - loss: 1.1250 - acc: 0.6135 - val_loss: 1.4636 - val_acc: 0.4882\n",
      "Epoch 18/50\n",
      "50000/50000 [==============================] - 1s 28us/step - loss: 1.1021 - acc: 0.6210 - val_loss: 1.4626 - val_acc: 0.4926\n",
      "Epoch 19/50\n",
      "50000/50000 [==============================] - 1s 28us/step - loss: 1.0800 - acc: 0.6305 - val_loss: 1.4546 - val_acc: 0.4951\n",
      "Epoch 20/50\n",
      "50000/50000 [==============================] - 1s 28us/step - loss: 1.0577 - acc: 0.6383 - val_loss: 1.4727 - val_acc: 0.4889\n",
      "Epoch 21/50\n",
      "50000/50000 [==============================] - 1s 28us/step - loss: 1.0371 - acc: 0.6472 - val_loss: 1.4589 - val_acc: 0.4936\n",
      "Epoch 22/50\n",
      "50000/50000 [==============================] - 1s 28us/step - loss: 1.0144 - acc: 0.6561 - val_loss: 1.4482 - val_acc: 0.4979\n",
      "Epoch 23/50\n",
      "50000/50000 [==============================] - 1s 28us/step - loss: 0.9934 - acc: 0.6633 - val_loss: 1.4708 - val_acc: 0.5009\n",
      "Epoch 24/50\n",
      "50000/50000 [==============================] - 1s 28us/step - loss: 0.9723 - acc: 0.6728 - val_loss: 1.4624 - val_acc: 0.4949\n",
      "Epoch 25/50\n",
      "50000/50000 [==============================] - 1s 28us/step - loss: 0.9516 - acc: 0.6804 - val_loss: 1.4554 - val_acc: 0.4987\n",
      "Epoch 26/50\n",
      "50000/50000 [==============================] - 1s 28us/step - loss: 0.9290 - acc: 0.6893 - val_loss: 1.4829 - val_acc: 0.4957\n",
      "Epoch 27/50\n",
      "50000/50000 [==============================] - 1s 28us/step - loss: 0.9105 - acc: 0.6962 - val_loss: 1.4634 - val_acc: 0.5033\n",
      "Epoch 28/50\n",
      "50000/50000 [==============================] - 1s 28us/step - loss: 0.8902 - acc: 0.7045 - val_loss: 1.4745 - val_acc: 0.4966\n",
      "Epoch 29/50\n",
      "50000/50000 [==============================] - 1s 27us/step - loss: 0.8701 - acc: 0.7127 - val_loss: 1.4783 - val_acc: 0.4977\n",
      "Epoch 30/50\n",
      "50000/50000 [==============================] - 1s 27us/step - loss: 0.8500 - acc: 0.7196 - val_loss: 1.4920 - val_acc: 0.4933\n",
      "Epoch 31/50\n",
      "50000/50000 [==============================] - 1s 28us/step - loss: 0.8311 - acc: 0.7272 - val_loss: 1.5018 - val_acc: 0.4916\n",
      "Epoch 32/50\n",
      "50000/50000 [==============================] - 1s 27us/step - loss: 0.8125 - acc: 0.7337 - val_loss: 1.4919 - val_acc: 0.4990\n",
      "Epoch 33/50\n",
      "50000/50000 [==============================] - 1s 28us/step - loss: 0.7916 - acc: 0.7440 - val_loss: 1.5029 - val_acc: 0.5040\n",
      "Epoch 34/50\n",
      "50000/50000 [==============================] - 1s 28us/step - loss: 0.7707 - acc: 0.7505 - val_loss: 1.5085 - val_acc: 0.4934\n",
      "Epoch 35/50\n",
      "50000/50000 [==============================] - 1s 27us/step - loss: 0.7517 - acc: 0.7586 - val_loss: 1.5294 - val_acc: 0.4966\n",
      "Epoch 36/50\n",
      "50000/50000 [==============================] - 1s 27us/step - loss: 0.7330 - acc: 0.7676 - val_loss: 1.5332 - val_acc: 0.4961\n",
      "Epoch 37/50\n",
      "50000/50000 [==============================] - 1s 28us/step - loss: 0.7128 - acc: 0.7729 - val_loss: 1.5508 - val_acc: 0.4971\n",
      "Epoch 38/50\n",
      "50000/50000 [==============================] - 1s 27us/step - loss: 0.6936 - acc: 0.7836 - val_loss: 1.5374 - val_acc: 0.5016\n",
      "Epoch 39/50\n",
      "50000/50000 [==============================] - 1s 28us/step - loss: 0.6745 - acc: 0.7891 - val_loss: 1.5604 - val_acc: 0.4910\n",
      "Epoch 40/50\n",
      "50000/50000 [==============================] - 1s 27us/step - loss: 0.6588 - acc: 0.7948 - val_loss: 1.5877 - val_acc: 0.4951\n",
      "Epoch 41/50\n",
      "50000/50000 [==============================] - 1s 27us/step - loss: 0.6388 - acc: 0.8047 - val_loss: 1.5833 - val_acc: 0.4966\n",
      "Epoch 42/50\n",
      "50000/50000 [==============================] - 1s 28us/step - loss: 0.6210 - acc: 0.8115 - val_loss: 1.5916 - val_acc: 0.4879\n",
      "Epoch 43/50\n",
      "50000/50000 [==============================] - 1s 27us/step - loss: 0.6027 - acc: 0.8186 - val_loss: 1.5931 - val_acc: 0.4913\n",
      "Epoch 00043: early stopping\n",
      "_________________________________________________________________\n",
      "Layer (type)                 Output Shape              Param #   \n",
      "=================================================================\n",
      "input_2 (InputLayer)         (None, 3072)              0         \n",
      "_________________________________________________________________\n",
      "hidden_layer1 (Dense)        (None, 512)               1573376   \n",
      "_________________________________________________________________\n",
      "batch_normalization_4 (Batch (None, 512)               2048      \n",
      "_________________________________________________________________\n",
      "hidden_layer2 (Dense)        (None, 256)               131328    \n",
      "_________________________________________________________________\n",
      "batch_normalization_5 (Batch (None, 256)               1024      \n",
      "_________________________________________________________________\n",
      "hidden_layer3 (Dense)        (None, 128)               32896     \n",
      "_________________________________________________________________\n",
      "batch_normalization_6 (Batch (None, 128)               512       \n",
      "_________________________________________________________________\n",
      "output (Dense)               (None, 10)                1290      \n",
      "=================================================================\n",
      "Total params: 1,742,474\n",
      "Trainable params: 1,740,682\n",
      "Non-trainable params: 1,792\n",
      "_________________________________________________________________\n",
      "Train on 50000 samples, validate on 10000 samples\n",
      "Epoch 1/50\n",
      "50000/50000 [==============================] - 2s 41us/step - loss: 2.2207 - acc: 0.2695 - val_loss: 2.2139 - val_acc: 0.3040\n",
      "Epoch 2/50\n",
      "50000/50000 [==============================] - 1s 28us/step - loss: 1.7438 - acc: 0.3940 - val_loss: 1.8578 - val_acc: 0.3686\n",
      "Epoch 3/50\n",
      "50000/50000 [==============================] - 1s 28us/step - loss: 1.6195 - acc: 0.4347 - val_loss: 1.7077 - val_acc: 0.4110\n",
      "Epoch 4/50\n",
      "50000/50000 [==============================] - 1s 28us/step - loss: 1.5457 - acc: 0.4626 - val_loss: 1.6287 - val_acc: 0.4362\n",
      "Epoch 5/50\n",
      "50000/50000 [==============================] - 1s 28us/step - loss: 1.4916 - acc: 0.4797 - val_loss: 1.5974 - val_acc: 0.4477\n",
      "Epoch 6/50\n",
      "50000/50000 [==============================] - 1s 28us/step - loss: 1.4472 - acc: 0.4954 - val_loss: 1.5632 - val_acc: 0.4517\n",
      "Epoch 7/50\n",
      "50000/50000 [==============================] - 1s 28us/step - loss: 1.4070 - acc: 0.5098 - val_loss: 1.5458 - val_acc: 0.4574\n",
      "Epoch 8/50\n",
      "50000/50000 [==============================] - 1s 28us/step - loss: 1.3714 - acc: 0.5237 - val_loss: 1.5380 - val_acc: 0.4590\n",
      "Epoch 9/50\n",
      "50000/50000 [==============================] - 1s 28us/step - loss: 1.3405 - acc: 0.5330 - val_loss: 1.5173 - val_acc: 0.4636\n",
      "Epoch 10/50\n",
      "50000/50000 [==============================] - 1s 27us/step - loss: 1.3108 - acc: 0.5459 - val_loss: 1.5151 - val_acc: 0.4674\n",
      "Epoch 11/50\n",
      "50000/50000 [==============================] - 1s 28us/step - loss: 1.2830 - acc: 0.5544 - val_loss: 1.5015 - val_acc: 0.4729\n",
      "Epoch 12/50\n",
      "50000/50000 [==============================] - 1s 28us/step - loss: 1.2566 - acc: 0.5665 - val_loss: 1.4910 - val_acc: 0.4752\n",
      "Epoch 13/50\n",
      "50000/50000 [==============================] - 1s 28us/step - loss: 1.2302 - acc: 0.5760 - val_loss: 1.4946 - val_acc: 0.4756\n",
      "Epoch 14/50\n",
      "50000/50000 [==============================] - 1s 28us/step - loss: 1.2054 - acc: 0.5850 - val_loss: 1.4919 - val_acc: 0.4772\n",
      "Epoch 15/50\n",
      "50000/50000 [==============================] - 1s 28us/step - loss: 1.1795 - acc: 0.5942 - val_loss: 1.4746 - val_acc: 0.4819\n",
      "Epoch 16/50\n",
      "50000/50000 [==============================] - 1s 28us/step - loss: 1.1586 - acc: 0.6024 - val_loss: 1.4725 - val_acc: 0.4846\n",
      "Epoch 17/50\n",
      "50000/50000 [==============================] - 1s 28us/step - loss: 1.1347 - acc: 0.6103 - val_loss: 1.4708 - val_acc: 0.4845\n",
      "Epoch 18/50\n",
      "50000/50000 [==============================] - 1s 27us/step - loss: 1.1115 - acc: 0.6206 - val_loss: 1.4836 - val_acc: 0.4811\n",
      "Epoch 19/50\n",
      "50000/50000 [==============================] - 1s 28us/step - loss: 1.0904 - acc: 0.6283 - val_loss: 1.4640 - val_acc: 0.4869\n",
      "Epoch 20/50\n",
      "50000/50000 [==============================] - 1s 28us/step - loss: 1.0690 - acc: 0.6355 - val_loss: 1.4590 - val_acc: 0.4863\n",
      "Epoch 21/50\n",
      "50000/50000 [==============================] - 1s 28us/step - loss: 1.0486 - acc: 0.6446 - val_loss: 1.4591 - val_acc: 0.4875\n",
      "Epoch 22/50\n",
      "50000/50000 [==============================] - 1s 28us/step - loss: 1.0262 - acc: 0.6508 - val_loss: 1.4562 - val_acc: 0.4926\n",
      "Epoch 23/50\n",
      "50000/50000 [==============================] - 1s 28us/step - loss: 1.0065 - acc: 0.6605 - val_loss: 1.4777 - val_acc: 0.4845\n",
      "Epoch 24/50\n",
      "50000/50000 [==============================] - 1s 28us/step - loss: 0.9863 - acc: 0.6672 - val_loss: 1.4640 - val_acc: 0.4898\n",
      "Epoch 25/50\n",
      "50000/50000 [==============================] - 1s 28us/step - loss: 0.9645 - acc: 0.6757 - val_loss: 1.4568 - val_acc: 0.4937\n",
      "Epoch 26/50\n",
      "50000/50000 [==============================] - 1s 28us/step - loss: 0.9457 - acc: 0.6833 - val_loss: 1.4654 - val_acc: 0.4958\n",
      "Epoch 27/50\n",
      "50000/50000 [==============================] - 1s 28us/step - loss: 0.9237 - acc: 0.6916 - val_loss: 1.4696 - val_acc: 0.4994\n",
      "Epoch 28/50\n",
      "50000/50000 [==============================] - 1s 28us/step - loss: 0.9038 - acc: 0.6978 - val_loss: 1.4797 - val_acc: 0.5035\n",
      "Epoch 29/50\n",
      "50000/50000 [==============================] - 1s 28us/step - loss: 0.8847 - acc: 0.7052 - val_loss: 1.4695 - val_acc: 0.5022\n",
      "Epoch 30/50\n",
      "50000/50000 [==============================] - 1s 28us/step - loss: 0.8644 - acc: 0.7138 - val_loss: 1.4751 - val_acc: 0.5004\n",
      "Epoch 31/50\n",
      "50000/50000 [==============================] - 1s 28us/step - loss: 0.8464 - acc: 0.7203 - val_loss: 1.4754 - val_acc: 0.4952\n",
      "Epoch 32/50\n",
      "50000/50000 [==============================] - 1s 28us/step - loss: 0.8264 - acc: 0.7293 - val_loss: 1.4931 - val_acc: 0.4982\n",
      "Epoch 33/50\n",
      "50000/50000 [==============================] - 1s 28us/step - loss: 0.8071 - acc: 0.7382 - val_loss: 1.4913 - val_acc: 0.4970\n",
      "Epoch 34/50\n",
      "50000/50000 [==============================] - 1s 28us/step - loss: 0.7884 - acc: 0.7438 - val_loss: 1.5121 - val_acc: 0.4918\n",
      "Epoch 35/50\n",
      "50000/50000 [==============================] - 1s 28us/step - loss: 0.7702 - acc: 0.7515 - val_loss: 1.5075 - val_acc: 0.5013\n",
      "Epoch 36/50\n",
      "50000/50000 [==============================] - 1s 28us/step - loss: 0.7511 - acc: 0.7594 - val_loss: 1.5220 - val_acc: 0.4947\n",
      "Epoch 37/50\n",
      "50000/50000 [==============================] - 1s 28us/step - loss: 0.7316 - acc: 0.7649 - val_loss: 1.5414 - val_acc: 0.4899\n",
      "Epoch 38/50\n",
      "50000/50000 [==============================] - 1s 28us/step - loss: 0.7149 - acc: 0.7738 - val_loss: 1.5401 - val_acc: 0.4967\n",
      "Epoch 39/50\n",
      "50000/50000 [==============================] - 1s 28us/step - loss: 0.6936 - acc: 0.7814 - val_loss: 1.5329 - val_acc: 0.4992\n",
      "Epoch 40/50\n",
      "50000/50000 [==============================] - 1s 28us/step - loss: 0.6786 - acc: 0.7897 - val_loss: 1.5397 - val_acc: 0.4967\n",
      "Epoch 41/50\n",
      "50000/50000 [==============================] - 1s 28us/step - loss: 0.6602 - acc: 0.7950 - val_loss: 1.5622 - val_acc: 0.4975\n",
      "Epoch 42/50\n",
      "50000/50000 [==============================] - 1s 28us/step - loss: 0.6413 - acc: 0.8016 - val_loss: 1.5669 - val_acc: 0.5001\n",
      "Epoch 43/50\n",
      "50000/50000 [==============================] - 1s 28us/step - loss: 0.6243 - acc: 0.8095 - val_loss: 1.5875 - val_acc: 0.4902\n",
      "Epoch 44/50\n",
      "50000/50000 [==============================] - 1s 28us/step - loss: 0.6081 - acc: 0.8162 - val_loss: 1.5921 - val_acc: 0.4943\n",
      "Epoch 45/50\n",
      "50000/50000 [==============================] - 1s 28us/step - loss: 0.5897 - acc: 0.8228 - val_loss: 1.6135 - val_acc: 0.5008\n",
      "Epoch 46/50\n",
      "50000/50000 [==============================] - 1s 28us/step - loss: 0.5727 - acc: 0.8303 - val_loss: 1.6044 - val_acc: 0.4964\n",
      "Epoch 47/50\n",
      "50000/50000 [==============================] - 1s 27us/step - loss: 0.5548 - acc: 0.8370 - val_loss: 1.6251 - val_acc: 0.4959\n",
      "Epoch 48/50\n",
      "50000/50000 [==============================] - 1s 28us/step - loss: 0.5401 - acc: 0.8436 - val_loss: 1.6696 - val_acc: 0.4940\n",
      "Epoch 49/50\n",
      "50000/50000 [==============================] - 1s 28us/step - loss: 0.5211 - acc: 0.8517 - val_loss: 1.6535 - val_acc: 0.4917\n",
      "Epoch 50/50\n",
      "50000/50000 [==============================] - 1s 27us/step - loss: 0.5065 - acc: 0.8569 - val_loss: 1.6684 - val_acc: 0.4922\n"
     ]
    }
   ],
   "source": [
    "results = {}\n",
    "\"\"\"Code Here\n",
    "撰寫你的訓練流程並將結果用 dictionary 紀錄\n",
    "\"\"\"\n",
    "\n",
    "for pat in PATIENCE:\n",
    "    earlystop = EarlyStopping(monitor=\"val_acc\", patience=pat, verbose=1)\n",
    "\n",
    "    model = build_mlp(input_shape=x_train.shape[1:])\n",
    "    model.summary()\n",
    "    optimizer = keras.optimizers.SGD(lr=LEARNING_RATE, nesterov=True, momentum=MOMENTUM)\n",
    "    model.compile(loss=\"categorical_crossentropy\", metrics=[\"accuracy\"], optimizer=optimizer)\n",
    "\n",
    "    model.fit(x_train, y_train, \n",
    "            epochs=EPOCHS, \n",
    "            batch_size=BATCH_SIZE, \n",
    "            validation_data=(x_test, y_test), \n",
    "            shuffle=True,\n",
    "            callbacks=[earlystop]\n",
    "            )\n",
    "\n",
    "    # Collect results\n",
    "    train_loss = model.history.history[\"loss\"]\n",
    "    valid_loss = model.history.history[\"val_loss\"]\n",
    "    train_acc = model.history.history[\"acc\"]\n",
    "    valid_acc = model.history.history[\"val_acc\"]\n",
    "\n",
    "    exp_name_tag = \"patience-%s\" % str(pat)\n",
    "    results[exp_name_tag] = {'train-loss': train_loss,\n",
    "                             'valid-loss': valid_loss,\n",
    "                             'train-acc': train_acc,\n",
    "                             'valid-acc': valid_acc}"
   ]
  },
  {
   "cell_type": "code",
   "execution_count": 9,
   "metadata": {
    "colab": {
     "base_uri": "https://localhost:8080/",
     "height": 763
    },
    "colab_type": "code",
    "id": "xxxAWHZN-PPg",
    "outputId": "78961625-422d-42d6-9e56-3d0264efd05c"
   },
   "outputs": [
    {
     "data": {
      "image/png": "[encoded data removed]",
      "text/plain": [
       "<Figure size 576x432 with 1 Axes>"
      ]
     },
     "metadata": {
      "tags": []
     },
     "output_type": "display_data"
    },
    {
     "data": {
      "image/png": "[encoded data removed]",
      "text/plain": [
       "<Figure size 576x432 with 1 Axes>"
      ]
     },
     "metadata": {
      "tags": []
     },
     "output_type": "display_data"
    }
   ],
   "source": [
    "import matplotlib.pyplot as plt\n",
    "%matplotlib inline\n",
    "\"\"\"Code Here\n",
    "將結果繪出\n",
    "\"\"\"\n",
    "\n",
    "color_bar = [\"r\", \"g\", \"b\", \"y\", \"m\", \"k\"]\n",
    "\n",
    "plt.figure(figsize=(8,6))\n",
    "for i, cond in enumerate(results.keys()):\n",
    "    plt.plot(range(len(results[cond]['train-loss'])),results[cond]['train-loss'], '-', label=cond, color=color_bar[i])\n",
    "    plt.plot(range(len(results[cond]['valid-loss'])),results[cond]['valid-loss'], '--', label=cond, color=color_bar[i])\n",
    "plt.title(\"Loss\")\n",
    "plt.legend()\n",
    "plt.show()\n",
    "\n",
    "plt.figure(figsize=(8,6))\n",
    "for i, cond in enumerate(results.keys()):\n",
    "    plt.plot(range(len(results[cond]['train-acc'])),results[cond]['train-acc'], '-', label=cond, color=color_bar[i])\n",
    "    plt.plot(range(len(results[cond]['valid-acc'])),results[cond]['valid-acc'], '--', label=cond, color=color_bar[i])\n",
    "plt.title(\"Accuracy\")\n",
    "plt.legend()\n",
    "plt.show()"
   ]
  }
 ],
 "metadata": {
  "accelerator": "GPU",
  "colab": {
   "collapsed_sections": [],
   "name": "Day_085_HW.ipynb",
   "provenance": [],
   "version": "0.3.2"
  },
  "kernelspec": {
   "display_name": "Python 3",
   "language": "python",
   "name": "python3"
  },
  "language_info": {
   "codemirror_mode": {
    "name": "ipython",
    "version": 3
   },
   "file_extension": ".py",
   "mimetype": "text/x-python",
   "name": "python",
   "nbconvert_exporter": "python",
   "pygments_lexer": "ipython3",
   "version": "3.7.3"
  }
 },
 "nbformat": 4,
 "nbformat_minor": 1
}
