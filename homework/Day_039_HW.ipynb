{
 "cells": [
  {
   "cell_type": "markdown",
   "metadata": {},
   "source": [
    "## [作業重點]\n",
    "清楚了解 L1, L2 的意義與差異為何，並了解 LASSO 與 Ridge 之間的差異與使用情境"
   ]
  },
  {
   "cell_type": "markdown",
   "metadata": {},
   "source": [
    "## 作業"
   ]
  },
  {
   "cell_type": "markdown",
   "metadata": {},
   "source": [
    "請閱讀相關文獻，並回答下列問題\n",
    "\n",
    "[脊回歸 (Ridge Regression)](https://blog.csdn.net/daunxx/article/details/51578787)\n",
    "[Linear, Ridge, Lasso Regression 本質區別](https://www.zhihu.com/question/38121173)\n",
    "\n",
    "1. LASSO 回歸可以被用來作為 Feature selection 的工具，請了解 LASSO 模型為什麼可用來作 Feature selection\n",
    "2. 當自變數 (X) 存在高度共線性時，Ridge Regression 可以處理這樣的問題嗎?\n"
   ]
  },
  {
   "cell_type": "markdown",
   "metadata": {},
   "source": [
    "> 清楚了解 L1, L2 的意義與差異為何\n",
    "\n",
    "L1 與 L2 皆是一種正則化函數，用來衡量模型的複雜度。\n",
    "\n",
    "> 並了解 LASSO 與 Ridge 之間的差異與使用情境\n",
    "\n",
    "* LASSO = Linear Regression + L1\n",
    "* Ridge = Linear Regression + L2\n",
    "\n",
    "兩者皆是回歸模型。"
   ]
  },
  {
   "cell_type": "markdown",
   "metadata": {},
   "source": [
    "在「[Linear, Ridge, Lasso Regression 本質區別](https://www.zhihu.com/question/38121173)」一文中，以 OSL 進行 15 次擬合，反而得到 overfitting 的結果，因為了提高準確度，反倒讓模型學習到了噪音。\n",
    "\n",
    "文章歸納出，OSL 找出的係數若有大幅增長跡像，就有可能出現 Overfitting。而 LASSO 與 Ridge 可作為一種懲罰機制，懲罰過大的系數，兩者差異為懲罰的方法。\n",
    "\n",
    "* LASSO 採用絕對值\n",
    "* Ridge 採用次方"
   ]
  },
  {
   "cell_type": "markdown",
   "metadata": {},
   "source": [
    "兩篇文章都提到了「普通最小平方 (ordinary least squares, OLS)」，是估計回歸係數的常見方法。\n",
    "\n",
    "取這份簡報「[簡單線性回歸](http://140.135.72.1/~QMLab/AssistanceHandBook/%E7%B0%A1%E5%96%AE%E7%B7%9A%E6%80%A7%E8%BF%B4%E6%AD%B8.pdf)」當中的例子：\n",
    "\n",
    "有一函數為 `Y = a + bX + U` 其中：\n",
    "* Y：應變數\n",
    "* a 與 b：係數\n",
    "* X：解釋變數\n",
    "* U：誤差\n",
    "\n",
    "普通最小平方法就是要找到一組 a 與 b，使 U (誤差) 的平方合最小。\n"
   ]
  },
  {
   "cell_type": "markdown",
   "metadata": {},
   "source": [
    "> 1. LASSO 回歸可以被用來作為 Feature selection 的工具，請了解 LASSO 模型為什麼可用來作 Feature selection\n",
    "\n",
    "> 特徵選擇(feature selection)：為了構建模型而選擇相關特徵的過程。\n",
    "\n",
    "LASSO 由於使用了 L1 進行懲罰，部分係數可能變為 0，因此可依其篩選出特徵。"
   ]
  },
  {
   "cell_type": "markdown",
   "metadata": {},
   "source": [
    "> 2. 當自變數 (X) 存在高度共線性時，Ridge Regression 可以處理這樣的問題嗎?\n",
    "\n",
    "可以，Ridge Regression 就是為了解決這樣的問題"
   ]
  },
  {
   "cell_type": "code",
   "execution_count": null,
   "metadata": {},
   "outputs": [],
   "source": []
  }
 ],
 "metadata": {
  "kernelspec": {
   "display_name": "Python 3",
   "language": "python",
   "name": "python3"
  },
  "language_info": {
   "codemirror_mode": {
    "name": "ipython",
    "version": 3
   },
   "file_extension": ".py",
   "mimetype": "text/x-python",
   "name": "python",
   "nbconvert_exporter": "python",
   "pygments_lexer": "ipython3",
   "version": "3.7.1"
  }
 },
 "nbformat": 4,
 "nbformat_minor": 2
}
