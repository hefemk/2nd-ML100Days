{
  "nbformat": 4,
  "nbformat_minor": 0,
  "metadata": {
    "kernelspec": {
      "name": "python3",
      "display_name": "Python 3"
    },
    "language_info": {
      "codemirror_mode": {
        "name": "ipython",
        "version": 3
      },
      "file_extension": ".py",
      "mimetype": "text/x-python",
      "name": "python",
      "nbconvert_exporter": "python",
      "pygments_lexer": "ipython3",
      "version": "3.6.5"
    },
    "colab": {
      "name": "Day_088_HW.ipynb",
      "version": "0.3.2",
      "provenance": [],
      "collapsed_sections": []
    },
    "accelerator": "GPU"
  },
  "cells": [
    {
      "cell_type": "markdown",
      "metadata": {
        "id": "cOo1gqULlrnO",
        "colab_type": "text"
      },
      "source": [
        "## Work\n",
        "1. 請嘗試寫一個 callback 用來記錄各類別在訓練過程中，對驗證集的 True Positive 與 True Negative"
      ]
    },
    {
      "cell_type": "code",
      "metadata": {
        "id": "BqdCT4yPlrnV",
        "colab_type": "code",
        "colab": {}
      },
      "source": [
        "import os\n",
        "import keras\n",
        "import numpy as np\n",
        "\n",
        "# Disable GPU\n",
        "os.environ[\"CUDA_VISIBLE_DEVICES\"] = \"0\""
      ],
      "execution_count": 0,
      "outputs": []
    },
    {
      "cell_type": "code",
      "metadata": {
        "id": "PXCluVKRlrnj",
        "colab_type": "code",
        "colab": {
          "base_uri": "https://localhost:8080/",
          "height": 54
        },
        "outputId": "e8acff4d-23a4-465c-e6d1-f9d4a85e8fa0"
      },
      "source": [
        "train, test = keras.datasets.cifar10.load_data()"
      ],
      "execution_count": 2,
      "outputs": [
        {
          "output_type": "stream",
          "text": [
            "Downloading data from https://www.cs.toronto.edu/~kriz/cifar-10-python.tar.gz\n",
            "170500096/170498071 [==============================] - 13s 0us/step\n"
          ],
          "name": "stdout"
        }
      ]
    },
    {
      "cell_type": "code",
      "metadata": {
        "id": "ivCNl40xlrnr",
        "colab_type": "code",
        "colab": {}
      },
      "source": [
        "## 資料前處理\n",
        "def preproc_x(x, flatten=True):\n",
        "    x = x / 255.\n",
        "    if flatten:\n",
        "        x = x.reshape((len(x), -1))\n",
        "    return x\n",
        "\n",
        "def preproc_y(y, num_classes=10):\n",
        "    if y.shape[-1] == 1:\n",
        "        y = keras.utils.to_categorical(y, num_classes)\n",
        "    return y    "
      ],
      "execution_count": 0,
      "outputs": []
    },
    {
      "cell_type": "code",
      "metadata": {
        "id": "ji6aBjb9lrnz",
        "colab_type": "code",
        "colab": {}
      },
      "source": [
        "x_train, y_train = train\n",
        "x_test, y_test = test\n",
        "\n",
        "# Preproc the inputs\n",
        "x_train = preproc_x(x_train)\n",
        "x_test = preproc_x(x_test)\n",
        "\n",
        "# Preprc the outputs\n",
        "y_train = preproc_y(y_train)\n",
        "y_test = preproc_y(y_test)"
      ],
      "execution_count": 0,
      "outputs": []
    },
    {
      "cell_type": "code",
      "metadata": {
        "id": "N3jAe5rmlrn5",
        "colab_type": "code",
        "colab": {}
      },
      "source": [
        "from keras.layers import BatchNormalization\n",
        "def build_mlp(input_shape, output_units=10, num_neurons=[256, 256, 256]):\n",
        "    \"\"\"Code Here\n",
        "    建立你的神經網路，並加入 BN layer\n",
        "    \"\"\"\n",
        "    input_layer = keras.layers.Input(input_shape)\n",
        "    \n",
        "    for i, n_units in enumerate(num_neurons):\n",
        "        if i == 0:\n",
        "            x = keras.layers.Dense(units=n_units, \n",
        "                                   activation=\"relu\", \n",
        "                                   name=\"hidden_layer\"+str(i+1))(input_layer)\n",
        "            x = BatchNormalization()(x)\n",
        "        else:\n",
        "            x = keras.layers.Dense(units=n_units, \n",
        "                                   activation=\"relu\", \n",
        "                                   name=\"hidden_layer\"+str(i+1))(x)\n",
        "            x = BatchNormalization()(x)\n",
        "    \n",
        "    out = keras.layers.Dense(units=output_units, activation=\"softmax\", name=\"output\")(x)\n",
        "    \n",
        "    model = keras.models.Model(inputs=[input_layer], outputs=[out])\n",
        "    return model"
      ],
      "execution_count": 0,
      "outputs": []
    },
    {
      "cell_type": "code",
      "metadata": {
        "id": "gcpolwmqlroA",
        "colab_type": "code",
        "colab": {}
      },
      "source": [
        "## 超參數設定\n",
        "LEARNING_RATE = 1e-3\n",
        "EPOCHS = 25\n",
        "BATCH_SIZE = 1024\n",
        "MOMENTUM = 0.95"
      ],
      "execution_count": 0,
      "outputs": []
    },
    {
      "cell_type": "code",
      "metadata": {
        "id": "sybrGDtqlroP",
        "colab_type": "code",
        "colab": {}
      },
      "source": [
        "# 載入 Callbacks\n",
        "from keras.callbacks import Callback\n",
        "\n",
        "# Record_fp_tp\n",
        "class Record_tp_tn(Callback):\n",
        "    \"\"\"Code Here\n",
        "    撰寫一個紀錄 ture positive 與 true negative 數量的 callbacks    \n",
        "    \"\"\"\n",
        "    def on_train_begin(self, epoch, logs = {}):\n",
        "        logs = logs or {}\n",
        "        record_items = [\"val_tp\", \"val_tn\"]\n",
        "        for i in record_items:\n",
        "            if i not in self.params['metrics']:\n",
        "                self.params['metrics'].append(i)\n",
        "\n",
        "    def on_epoch_end(self, epoch, logs = {}, thres=0.5):\n",
        "        logs = logs or {}\n",
        "        y_true = self.validation_data[1].argmax(axis = 1)\n",
        "        y_pred = self.model.predict(self.validation_data[0])\n",
        "        y_pred = (y_pred[:, 1] >= thres) * 1\n",
        "                \n",
        "        logs[\"val_tp\"] = np.sum(np.logical_and(y_true == 1, y_pred == 1))\n",
        "        logs[\"val_tn\"] = np.sum(np.logical_and(y_true == 0, y_pred == 0))\n",
        "        \n",
        "rec_tptn = Record_tp_tn()"
      ],
      "execution_count": 0,
      "outputs": []
    },
    {
      "cell_type": "code",
      "metadata": {
        "scrolled": true,
        "id": "D1abg_HElroe",
        "colab_type": "code",
        "colab": {
          "base_uri": "https://localhost:8080/",
          "height": 1000
        },
        "outputId": "5ee12fd9-7f65-4b60-efe4-416ae073cb9b"
      },
      "source": [
        "model = build_mlp(input_shape=x_train.shape[1:])\n",
        "model.summary()\n",
        "optimizer = keras.optimizers.SGD(lr=LEARNING_RATE, nesterov=True, momentum=MOMENTUM)\n",
        "model.compile(loss=\"categorical_crossentropy\", metrics=[\"accuracy\"], optimizer=optimizer)\n",
        "\n",
        "\"\"\"Code Here\n",
        "將 callbacks 放入模型訓練流程中\n",
        "\"\"\"\n",
        "model.fit(x_train, y_train, \n",
        "          epochs=EPOCHS, \n",
        "          batch_size=BATCH_SIZE, \n",
        "          validation_data=(x_test, y_test), \n",
        "          shuffle=True,\n",
        "          callbacks=[rec_tptn])\n",
        "\n",
        "# Collect results\n",
        "train_loss = model.history.history[\"loss\"]\n",
        "valid_loss = model.history.history[\"val_loss\"]\n",
        "train_acc = model.history.history[\"acc\"]\n",
        "valid_acc = model.history.history[\"val_acc\"]\n",
        "\n",
        "\"\"\"Code Here\n",
        "將 tp/tn 從訓練完的模型中取出\n",
        "\"\"\"\n",
        "valid_tp = model.history.history['val_tp']\n",
        "valid_tn = model.history.history['val_tn']"
      ],
      "execution_count": 12,
      "outputs": [
        {
          "output_type": "stream",
          "text": [
            "_________________________________________________________________\n",
            "Layer (type)                 Output Shape              Param #   \n",
            "=================================================================\n",
            "input_2 (InputLayer)         (None, 3072)              0         \n",
            "_________________________________________________________________\n",
            "hidden_layer1 (Dense)        (None, 256)               786688    \n",
            "_________________________________________________________________\n",
            "batch_normalization_4 (Batch (None, 256)               1024      \n",
            "_________________________________________________________________\n",
            "hidden_layer2 (Dense)        (None, 256)               65792     \n",
            "_________________________________________________________________\n",
            "batch_normalization_5 (Batch (None, 256)               1024      \n",
            "_________________________________________________________________\n",
            "hidden_layer3 (Dense)        (None, 256)               65792     \n",
            "_________________________________________________________________\n",
            "batch_normalization_6 (Batch (None, 256)               1024      \n",
            "_________________________________________________________________\n",
            "output (Dense)               (None, 10)                2570      \n",
            "=================================================================\n",
            "Total params: 923,914\n",
            "Trainable params: 922,378\n",
            "Non-trainable params: 1,536\n",
            "_________________________________________________________________\n",
            "Train on 50000 samples, validate on 10000 samples\n",
            "Epoch 1/25\n",
            "50000/50000 [==============================] - 2s 44us/step - loss: 2.2333 - acc: 0.2626 - val_loss: 2.1158 - val_acc: 0.3071\n",
            "Epoch 2/25\n",
            "50000/50000 [==============================] - 1s 28us/step - loss: 1.7734 - acc: 0.3783 - val_loss: 1.9118 - val_acc: 0.3605\n",
            "Epoch 3/25\n",
            "50000/50000 [==============================] - 1s 27us/step - loss: 1.6464 - acc: 0.4216 - val_loss: 1.7182 - val_acc: 0.3961\n",
            "Epoch 4/25\n",
            "50000/50000 [==============================] - 1s 26us/step - loss: 1.5703 - acc: 0.4461 - val_loss: 1.6463 - val_acc: 0.4204\n",
            "Epoch 5/25\n",
            "50000/50000 [==============================] - 1s 26us/step - loss: 1.5149 - acc: 0.4667 - val_loss: 1.6079 - val_acc: 0.4348\n",
            "Epoch 6/25\n",
            "50000/50000 [==============================] - 1s 27us/step - loss: 1.4701 - acc: 0.4837 - val_loss: 1.5756 - val_acc: 0.4451\n",
            "Epoch 7/25\n",
            "50000/50000 [==============================] - 1s 27us/step - loss: 1.4328 - acc: 0.4963 - val_loss: 1.5506 - val_acc: 0.4525\n",
            "Epoch 8/25\n",
            "50000/50000 [==============================] - 1s 27us/step - loss: 1.3974 - acc: 0.5085 - val_loss: 1.5299 - val_acc: 0.4608\n",
            "Epoch 9/25\n",
            "50000/50000 [==============================] - 1s 27us/step - loss: 1.3664 - acc: 0.5211 - val_loss: 1.5303 - val_acc: 0.4631\n",
            "Epoch 10/25\n",
            "50000/50000 [==============================] - 1s 27us/step - loss: 1.3402 - acc: 0.5301 - val_loss: 1.5075 - val_acc: 0.4613\n",
            "Epoch 11/25\n",
            "50000/50000 [==============================] - 1s 27us/step - loss: 1.3152 - acc: 0.5399 - val_loss: 1.4869 - val_acc: 0.4748\n",
            "Epoch 12/25\n",
            "50000/50000 [==============================] - 1s 27us/step - loss: 1.2888 - acc: 0.5491 - val_loss: 1.4810 - val_acc: 0.4744\n",
            "Epoch 13/25\n",
            "50000/50000 [==============================] - 1s 27us/step - loss: 1.2667 - acc: 0.5584 - val_loss: 1.4701 - val_acc: 0.4804\n",
            "Epoch 14/25\n",
            "50000/50000 [==============================] - 1s 27us/step - loss: 1.2436 - acc: 0.5656 - val_loss: 1.4698 - val_acc: 0.4813\n",
            "Epoch 15/25\n",
            "50000/50000 [==============================] - 1s 27us/step - loss: 1.2231 - acc: 0.5740 - val_loss: 1.4661 - val_acc: 0.4805\n",
            "Epoch 16/25\n",
            "50000/50000 [==============================] - 1s 26us/step - loss: 1.2032 - acc: 0.5825 - val_loss: 1.4619 - val_acc: 0.4861\n",
            "Epoch 17/25\n",
            "50000/50000 [==============================] - 1s 26us/step - loss: 1.1819 - acc: 0.5906 - val_loss: 1.4599 - val_acc: 0.4863\n",
            "Epoch 18/25\n",
            "50000/50000 [==============================] - 1s 27us/step - loss: 1.1639 - acc: 0.5973 - val_loss: 1.4580 - val_acc: 0.4858\n",
            "Epoch 19/25\n",
            "50000/50000 [==============================] - 1s 27us/step - loss: 1.1459 - acc: 0.6031 - val_loss: 1.4522 - val_acc: 0.4901\n",
            "Epoch 20/25\n",
            "50000/50000 [==============================] - 1s 27us/step - loss: 1.1255 - acc: 0.6121 - val_loss: 1.4501 - val_acc: 0.4903\n",
            "Epoch 21/25\n",
            "50000/50000 [==============================] - 1s 26us/step - loss: 1.1079 - acc: 0.6167 - val_loss: 1.4446 - val_acc: 0.4899\n",
            "Epoch 22/25\n",
            "50000/50000 [==============================] - 1s 26us/step - loss: 1.0908 - acc: 0.6262 - val_loss: 1.4472 - val_acc: 0.4910\n",
            "Epoch 23/25\n",
            "50000/50000 [==============================] - 1s 26us/step - loss: 1.0736 - acc: 0.6307 - val_loss: 1.4445 - val_acc: 0.4900\n",
            "Epoch 24/25\n",
            "50000/50000 [==============================] - 1s 27us/step - loss: 1.0559 - acc: 0.6385 - val_loss: 1.4531 - val_acc: 0.4886\n",
            "Epoch 25/25\n",
            "50000/50000 [==============================] - 1s 26us/step - loss: 1.0399 - acc: 0.6450 - val_loss: 1.4471 - val_acc: 0.4903\n"
          ],
          "name": "stdout"
        }
      ]
    },
    {
      "cell_type": "code",
      "metadata": {
        "id": "sjMslsbQlroo",
        "colab_type": "code",
        "colab": {
          "base_uri": "https://localhost:8080/",
          "height": 809
        },
        "outputId": "ff0aa624-5636-462f-c13a-a14e48ae7bd6"
      },
      "source": [
        "import matplotlib.pyplot as plt\n",
        "%matplotlib inline\n",
        "\n",
        "plt.plot(range(len(train_loss)), train_loss, label=\"train loss\")\n",
        "plt.plot(range(len(valid_loss)), valid_loss, label=\"valid loss\")\n",
        "plt.legend()\n",
        "plt.title(\"Loss\")\n",
        "plt.show()\n",
        "\n",
        "plt.plot(range(len(train_acc)), train_acc, label=\"train accuracy\")\n",
        "plt.plot(range(len(valid_acc)), valid_acc, label=\"valid accuracy\")\n",
        "plt.legend()\n",
        "plt.title(\"Accuracy\")\n",
        "plt.show()\n",
        "\n",
        "plt.plot(range(len(valid_tp)), valid_tp, label=\"valid tp\", color=\"navy\")\n",
        "plt.plot(range(len(valid_tn)), valid_tn, label=\"valid tn\", color=\"red\")\n",
        "plt.legend()\n",
        "plt.title(\"True positives and True Negatives\")\n",
        "plt.show()\n"
      ],
      "execution_count": 13,
      "outputs": [
        {
          "output_type": "display_data",
          "data": {
            "image/png": "[encoded data removed]",
            "text/plain": [
              "<Figure size 432x288 with 1 Axes>"
            ]
          },
          "metadata": {
            "tags": []
          }
        },
        {
          "output_type": "display_data",
          "data": {
            "image/png": "[encoded data removed]",
            "text/plain": [
              "<Figure size 432x288 with 1 Axes>"
            ]
          },
          "metadata": {
            "tags": []
          }
        },
        {
          "output_type": "display_data",
          "data": {
            "image/png": "[encoded data removed]",
            "text/plain": [
              "<Figure size 432x288 with 1 Axes>"
            ]
          },
          "metadata": {
            "tags": []
          }
        }
      ]
    }
  ]
}